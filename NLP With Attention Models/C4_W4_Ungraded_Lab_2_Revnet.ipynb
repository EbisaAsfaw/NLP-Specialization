{
  "cells": [
    {
      "cell_type": "markdown",
      "metadata": {
        "id": "view-in-github",
        "colab_type": "text"
      },
      "source": [
        "<a href=\"https://colab.research.google.com/github/EbisaAsfaw/NLP-Specialization/blob/main/NLP%20With%20Attention%20Models/C4_W4_Ungraded_Lab_2_Revnet.ipynb\" target=\"_parent\"><img src=\"https://colab.research.google.com/assets/colab-badge.svg\" alt=\"Open In Colab\"/></a>"
      ]
    },
    {
      "cell_type": "markdown",
      "metadata": {
        "id": "TDp8PQDPJhLe"
      },
      "source": [
        "# Putting the \"Re\" in Reformer: Ungraded Lab\n",
        "This ungraded lab will explore Reversible Residual Networks. You will use these networks in this week's assignment that utilizes the Reformer model. It is based on the Transformer model you already know, but with two unique features.\n",
        "* Locality Sensitive Hashing (LSH) Attention to reduce the compute cost of the dot product attention and\n",
        "* Reversible Residual Networks (RevNets) organization to reduce the storage requirements when doing backpropagation in training.\n",
        "\n",
        "In this ungraded lab we'll start with a quick review of Residual Networks and their implementation in Trax. Then we will discuss the Revnet architecture and its use in Reformer.\n",
        "## Outline\n",
        "- [Part 1:  Residual Networks](#1)\n",
        "    - [1.1  Branch](#1.1)\n",
        "    - [1.2  Residual Model](#1.2)\n",
        "- [Part 2:  Reversible Residual Networks](#2)\n",
        "    - [2.1  Trax Reversible Layers](#2.1)\n",
        "    - [2.2  Residual Model](#2.2)\n",
        "\n",
        "\n"
      ]
    },
    {
      "cell_type": "code",
      "execution_count": null,
      "metadata": {
        "lines_to_next_cell": 2,
        "id": "_4isF2WOJhLo",
        "outputId": "c412f118-02ee-4df6-9a36-4a416e2fead1"
      },
      "outputs": [
        {
          "name": "stdout",
          "output_type": "stream",
          "text": [
            "trax                         1.3.9\n",
            "\u001b[33mWARNING: You are using pip version 21.2.4; however, version 22.1.2 is available.\n",
            "You should consider upgrading via the '/opt/conda/bin/python3 -m pip install --upgrade pip' command.\u001b[0m\n"
          ]
        }
      ],
      "source": [
        "import trax\n",
        "from trax import layers as tl               # core building block\n",
        "import numpy as np                          # regular ol' numpy\n",
        "from trax.layers.reversible import (\n",
        "    ReversibleHalfResidual,\n",
        ")                                           # unique spot\n",
        "from trax import fastmath                   # uses jax, offers numpy on steroids\n",
        "from trax import shapes                     # data signatures: dimensionality and type\n",
        "from trax.fastmath import numpy as jnp      # For use in defining new layer types.\n",
        "from trax.shapes import ShapeDtype\n",
        "from trax.shapes import signature\n",
        "\n",
        "!pip list|grep trax"
      ]
    },
    {
      "cell_type": "markdown",
      "metadata": {
        "id": "Q9m-LPAIJhLr"
      },
      "source": [
        "## Part 1.0  Residual Networks\n",
        "[Deep Residual Networks ](https://arxiv.org/abs/1512.03385) (Resnets) were introduced to improve convergence in deep networks. Residual Networks introduce a shortcut connection around one or more layers in a deep network as shown in the diagram below from the original paper.\n",
        "\n",
        "<center><img src = \"images/Revnet7.PNG\" height=\"250\" width=\"250\"></center>\n",
        "<center><b>Figure 1: Residual Network diagram from original paper</b></center>\n",
        "\n",
        "The [Trax documentation](https://trax-ml.readthedocs.io/en/latest/notebooks/layers_intro.html#2.-Inputs-and-Outputs) describes an implementation of Resnets using `branch`. We'll explore that here by implementing a simple resnet built from simple function based layers. Specifically, we'll build a 4 layer network based on two functions, 'F' and 'G'.\n",
        "\n",
        "<img src = \"images/Revnet8.PNG\" height=\"200\" width=\"1400\">\n",
        "<center><b>Figure 2: 4 stage Residual network</b></center>\n",
        "Don't worry about the lengthy equations. Those are simply there to be referenced later in the notebook."
      ]
    },
    {
      "cell_type": "markdown",
      "metadata": {
        "id": "Cq0z2-ooJhLs"
      },
      "source": [
        "<a name=\"1.1\"></a>\n",
        "### Part 1.1  Branch\n",
        "Trax `branch` figures prominently in the residual network layer so we will first examine it. You can see from the figure above that we will need a function that will copy an input and send it down multiple paths. This is accomplished with a  [branch layer](https://trax-ml.readthedocs.io/en/latest/trax.layers.html#module-trax.layers.combinators), one of the Trax 'combinators'. Branch is a combinator that applies a list of layers in parallel to copies of inputs. Lets try it out!  First we will need some layers to play with. Let's build some from functions."
      ]
    },
    {
      "cell_type": "code",
      "execution_count": null,
      "metadata": {
        "tags": [],
        "id": "np5QtS0-JhLt",
        "outputId": "659d0590-0eca-45f8-e38c-6ef361398bcf"
      },
      "outputs": [
        {
          "name": "stdout",
          "output_type": "stream",
          "text": [
            "[2] [3] [4]\n",
            "name: add1 \n",
            " number of inputs: 1 \n",
            " number of outputs: 1\n"
          ]
        }
      ],
      "source": [
        "# simple function taking one input and one output\n",
        "bl_add1 = tl.Fn(\"add1\", lambda x0: (x0 + 1), n_out=1)\n",
        "bl_add2 = tl.Fn(\"add2\", lambda x0: (x0 + 2), n_out=1)\n",
        "bl_add3 = tl.Fn(\"add3\", lambda x0: (x0 + 3), n_out=1)\n",
        "# try them out\n",
        "x = np.array([1])\n",
        "print(bl_add1(x), bl_add2(x), bl_add3(x))\n",
        "# some information about our new layers\n",
        "print(\n",
        "    \"name:\",\n",
        "    bl_add1.name,\n",
        "    \"\\n number of inputs:\",\n",
        "    bl_add1.n_in,\n",
        "    \"\\n number of outputs:\",\n",
        "    bl_add1.n_out,\n",
        ")"
      ]
    },
    {
      "cell_type": "code",
      "execution_count": null,
      "metadata": {
        "id": "t7f5P1TfJhLu",
        "outputId": "68289984-6c68-4db5-ea59-423bb5a42c87"
      },
      "outputs": [
        {
          "data": {
            "text/plain": [
              "Branch_out3[\n",
              "  add1\n",
              "  add2\n",
              "  add3\n",
              "]"
            ]
          },
          "execution_count": 3,
          "metadata": {},
          "output_type": "execute_result"
        }
      ],
      "source": [
        "bl_3add1s = tl.Branch(bl_add1, bl_add2, bl_add3)\n",
        "bl_3add1s"
      ]
    },
    {
      "cell_type": "markdown",
      "metadata": {
        "id": "x9CEPfBIJhLv"
      },
      "source": [
        "Trax uses the concept of a 'stack' to transfer data between layers.\n",
        "For Branch, for each of its layer arguments, it copies the `n_in` inputs from the stack and provides them to the layer, tracking the max_n_in, or the largest n_in required. It then pops the max_n_in elements from the stack.\n",
        "<img src = \"images/branch1.PNG\" height=\"260\" width=\"600\">\n",
        "<center><b>Figure 3: One in, one out Branch</b></center>\n",
        "On output, each layer, in succession pushes its results onto the stack. Note that the push/pull operations impact the top of the stack. Elements that are not part of the operation (n, and m in the diagram) remain intact."
      ]
    },
    {
      "cell_type": "code",
      "execution_count": null,
      "metadata": {
        "id": "ZNzKhIyyJhLx",
        "outputId": "b9290652-129a-41ec-8ec2-0cb1bf83d7e2"
      },
      "outputs": [
        {
          "data": {
            "text/plain": [
              "(array([2]), array([3]), array([4]))"
            ]
          },
          "execution_count": 8,
          "metadata": {},
          "output_type": "execute_result"
        }
      ],
      "source": [
        "# n_in = 1, Each bl_addx pushes n_out = 1 elements onto the stack\n",
        "bl_3add1s(x)"
      ]
    },
    {
      "cell_type": "code",
      "execution_count": null,
      "metadata": {
        "id": "Vjawge-xJhLy",
        "outputId": "0b3d7ff7-5c33-4237-9bf5-2a88bc47c5b3"
      },
      "outputs": [
        {
          "data": {
            "text/plain": [
              "(array([2]), array([3]), array([4]), 'n', 'm')"
            ]
          },
          "execution_count": 9,
          "metadata": {},
          "output_type": "execute_result"
        }
      ],
      "source": [
        "# n = np.array([10]); m = np.array([20])  # n, m will remain on the stack\n",
        "n = \"n\"\n",
        "m = \"m\"  # n, m will remain on the stack\n",
        "bl_3add1s([x, n, m]) "
      ]
    },
    {
      "cell_type": "markdown",
      "metadata": {
        "id": "mMbLENukJhLz"
      },
      "source": [
        "Each layer in the input list copies as many inputs from the stack as it needs, and their outputs are successively combined on stack. Put another way, each element of the branch can have differing numbers of inputs and outputs. Let's try a more complex example."
      ]
    },
    {
      "cell_type": "code",
      "execution_count": null,
      "metadata": {
        "id": "tTzriqTQJhL0"
      },
      "outputs": [],
      "source": [
        "bl_addab = tl.Fn(\n",
        "    \"addab\", lambda x0, x1: (x0 + x1), n_out=1\n",
        ")  # Trax figures out how many inputs there are\n",
        "bl_rep3x = tl.Fn(\n",
        "    \"add2x\", lambda x0: (x0, x0, x0), n_out=3\n",
        ")  # but you have to tell it how many outputs there are\n",
        "bl_3ops = tl.Branch(bl_add1, bl_addab, bl_rep3x)"
      ]
    },
    {
      "cell_type": "markdown",
      "metadata": {
        "id": "Rf4r4e1TJhL1"
      },
      "source": [
        "In this case, the number of inputs being copied from the stack varies with the layer\n",
        "<img src = \"images/branch2.PNG\" height=\"260\" width=\"600\">\n",
        "<center><b>Figure 4: variable in, variable out Branch</b></center>\n",
        "The stack when the operation is finished is 5 entries reflecting the total from each layer."
      ]
    },
    {
      "cell_type": "code",
      "execution_count": null,
      "metadata": {
        "id": "h3SNGpGUJhL1",
        "outputId": "9cabfcc4-5c8c-4500-c513-f5646747b6e1"
      },
      "outputs": [
        {
          "data": {
            "text/plain": [
              "(array([2]), array([4]), array([1]), array([1]), array([1]), 'n', 'm')"
            ]
          },
          "execution_count": 12,
          "metadata": {},
          "output_type": "execute_result"
        }
      ],
      "source": [
        "# Before Running this cell, what is the output you are expecting?\n",
        "y = np.array([3])\n",
        "bl_3ops([x, y, n, m])"
      ]
    },
    {
      "cell_type": "markdown",
      "metadata": {
        "id": "1aoVU3diJhL2"
      },
      "source": [
        "Branch has a special feature to support Residual Network. If an argument is 'None', it will pull the top of stack  and push it (at its location in the sequence) onto the output stack\n",
        "<img src = \"images/branch3.PNG\" height=\"260\" width=\"600\">\n",
        "<center><b>Figure 5: Branch for Residual</b></center>"
      ]
    },
    {
      "cell_type": "code",
      "execution_count": null,
      "metadata": {
        "tags": [],
        "id": "V-jFbBItJhL3"
      },
      "outputs": [],
      "source": [
        "bl_2ops = tl.Branch(bl_add1, None)\n",
        "bl_2ops([x, n, m])"
      ]
    },
    {
      "cell_type": "markdown",
      "metadata": {
        "id": "MiPMbrQRJhL4"
      },
      "source": [
        "<a name=\"1.2\"></a>\n",
        "### Part 1.2  Residual Model\n",
        "OK, your turn. Write a function 'MyResidual', that uses `tl.Branch` and `tl.Add` to build a residual layer. If you are curious about the Trax implementation, you can see the code [here](https://github.com/google/trax/blob/190ec6c3d941d8a9f30422f27ef0c95dc16d2ab1/trax/layers/combinators.py)."
      ]
    },
    {
      "cell_type": "code",
      "execution_count": null,
      "metadata": {
        "id": "unFpht6QJhL4"
      },
      "outputs": [],
      "source": [
        "def MyResidual(layer):\n",
        "    return tl.Serial(\n",
        "        ### START CODE HERE ###\n",
        "        # tl.----,\n",
        "        # tl.----,\n",
        "        ### END CODE HERE ###\n",
        "    )"
      ]
    },
    {
      "cell_type": "code",
      "execution_count": null,
      "metadata": {
        "id": "YplXa2cYJhL5",
        "outputId": "73156eeb-207b-4c93-f28c-1c2ddc82814d"
      },
      "outputs": [
        {
          "data": {
            "text/plain": [
              "[array([1]), 'n', 'm']"
            ]
          },
          "execution_count": 27,
          "metadata": {},
          "output_type": "execute_result"
        }
      ],
      "source": [
        "# Lets Try it\n",
        "mr = MyResidual(bl_add1)\n",
        "x = np.array([1])\n",
        "mr([x, n, m])"
      ]
    },
    {
      "cell_type": "markdown",
      "metadata": {
        "id": "JNTm9cndJhL5"
      },
      "source": [
        "**Expected Result**\n",
        "(array([3]), 'n', 'm')"
      ]
    },
    {
      "cell_type": "markdown",
      "metadata": {
        "id": "AE3Cyag9JhL6"
      },
      "source": [
        "Great! Now, let's build the 4 layer residual Network in Figure 2. You can use `MyResidual`, or if you prefer, the tl.Residual in Trax, or a combination!"
      ]
    },
    {
      "cell_type": "code",
      "execution_count": null,
      "metadata": {
        "id": "HkayLA6UJhL6"
      },
      "outputs": [],
      "source": [
        "Fl = tl.Fn(\"F\", lambda x0: (2 * x0), n_out=1)\n",
        "Gl = tl.Fn(\"G\", lambda x0: (10 * x0), n_out=1)\n",
        "x1 = np.array([1])"
      ]
    },
    {
      "cell_type": "code",
      "execution_count": null,
      "metadata": {
        "id": "0dxQcbcAJhL6"
      },
      "outputs": [],
      "source": [
        "resfg = tl.Serial(\n",
        "    ### START CODE HERE ###\n",
        "    # None,  #Fl    # x + F(x)\n",
        "    # None,  #Gl    # x + F(x) + G(x + F(x)) etc\n",
        "    # None,  #Fl\n",
        "    # None,  #Gl\n",
        "    ### END CODE HERE ###\n",
        ")"
      ]
    },
    {
      "cell_type": "code",
      "execution_count": null,
      "metadata": {
        "id": "WzMobQ-7JhL7",
        "outputId": "aaaf1d21-ef26-479a-a824-14073ac7d472"
      },
      "outputs": [
        {
          "data": {
            "text/plain": [
              "[array([1]), 'n', 'm']"
            ]
          },
          "execution_count": 31,
          "metadata": {},
          "output_type": "execute_result"
        }
      ],
      "source": [
        "# Lets try it\n",
        "resfg([x1, n, m])"
      ]
    },
    {
      "cell_type": "markdown",
      "metadata": {
        "id": "b8pmjeIfJhL7"
      },
      "source": [
        "**Expected Results**\n",
        "(array([1089]), 'n', 'm')"
      ]
    },
    {
      "cell_type": "markdown",
      "metadata": {
        "id": "hIKpoUN8JhL8"
      },
      "source": [
        "<a name=\"2\"></a>\n",
        "## Part 2.0 Reversible Residual Networks\n",
        "The Reformer utilized RevNets to reduce the storage requirements for performing backpropagation.\n",
        "<img src = \"images/Reversible2.PNG\" height=\"260\" width=\"600\">\n",
        "<center><b>Figure 6: Reversible Residual Networks </b></center>\n",
        "The standard approach on the left above requires one to store the outputs of each stage for use during backprop. By using the organization to the right, one need only store the outputs of the last stage, y1, y2 in the diagram. Using those values and running the algorithm in reverse, one can reproduce the values required for backprop. This trades additional computation for memory space which is at a premium with the current generation of GPU's/TPU's.\n",
        "\n",
        "One thing to note is that the forward functions produced by two networks are similar, but they are not equivalent. Note for example the asymmetry in the output equations after two stages of operation.\n",
        "<img src = \"images/Revnet1.PNG\" height=\"340\" width=\"1100\">\n",
        "<center><b>Figure 7: 'Normal' Residual network (Top) vs REversible Residual Network </b></center>\n",
        "\n",
        "### Part 2.1  Trax Reversible Layers\n",
        "\n",
        "Let's take a look at how this is used in the Reformer."
      ]
    },
    {
      "cell_type": "code",
      "execution_count": null,
      "metadata": {
        "id": "lnypMQu-JhL8",
        "outputId": "905b735a-8c3f-4e41-cba9-d7e8591ccf92"
      },
      "outputs": [
        {
          "data": {
            "text/plain": [
              "Serial[\n",
              "  Serial[\n",
              "    ShiftRight(1)\n",
              "  ]\n",
              "  Embedding_33000_512\n",
              "  Dropout\n",
              "  Serial[\n",
              "    PositionalEncoding\n",
              "  ]\n",
              "  Dup_out2\n",
              "  ReversibleSerial_in2_out2[\n",
              "    ReversibleHalfResidualDecoderAttn_in2_out2[\n",
              "      Serial[\n",
              "        LayerNorm\n",
              "      ]\n",
              "      SelfAttention\n",
              "    ]\n",
              "    ReversibleSwap_in2_out2\n",
              "    ReversibleHalfResidualDecoderFF_in2_out2[\n",
              "      Serial[\n",
              "        LayerNorm\n",
              "        Dense_2048\n",
              "        Dropout\n",
              "        Serial[\n",
              "          FastGelu\n",
              "        ]\n",
              "        Dense_512\n",
              "        Dropout\n",
              "      ]\n",
              "    ]\n",
              "    ReversibleSwap_in2_out2\n",
              "    ReversibleHalfResidualDecoderAttn_in2_out2[\n",
              "      Serial[\n",
              "        LayerNorm\n",
              "      ]\n",
              "      SelfAttention\n",
              "    ]\n",
              "    ReversibleSwap_in2_out2\n",
              "    ReversibleHalfResidualDecoderFF_in2_out2[\n",
              "      Serial[\n",
              "        LayerNorm\n",
              "        Dense_2048\n",
              "        Dropout\n",
              "        Serial[\n",
              "          FastGelu\n",
              "        ]\n",
              "        Dense_512\n",
              "        Dropout\n",
              "      ]\n",
              "    ]\n",
              "    ReversibleSwap_in2_out2\n",
              "  ]\n",
              "  Concatenate_in2\n",
              "  LayerNorm\n",
              "  Dropout\n",
              "  Serial[\n",
              "    Dense_33000\n",
              "  ]\n",
              "]"
            ]
          },
          "execution_count": 32,
          "metadata": {},
          "output_type": "execute_result"
        }
      ],
      "source": [
        "refm = trax.models.reformer.ReformerLM(\n",
        "    vocab_size=33000, n_layers=2, mode=\"train\"  # Add more options.\n",
        ")\n",
        "refm"
      ]
    },
    {
      "cell_type": "markdown",
      "metadata": {
        "id": "AdB8V6m7JhL9"
      },
      "source": [
        "Eliminating some of the detail, we can see the structure of the network.\n",
        "<img src = \"images/Revnet2.PNG\" height=\"300\" width=\"350\">\n",
        "<center><b>Figure 8: Key Structure of Reformer Reversible Network Layers in Trax </b></center>\n",
        "\n",
        "We'll review the Trax layers used to implement the Reversible section of the Reformer. First we can note that not all of the reformer is reversible. Only the section in the ReversibleSerial layer is reversible. In a large Reformer model, that section is repeated many times making up the majority of the model.\n",
        "<img src = \"images/Revnet3.PNG\" height=\"650\" width=\"1600\">\n",
        "<center><b>Figure 9: Functional Diagram of Trax elements in Reformer </b></center>"
      ]
    },
    {
      "cell_type": "markdown",
      "metadata": {
        "id": "EjCg-KpBJhL9"
      },
      "source": [
        "The implementation starts by duplicating the input to allow the two paths that are part of the reversible residual organization with [Dup](https://github.com/google/trax/blob/190ec6c3d941d8a9f30422f27ef0c95dc16d2ab1/trax/layers/combinators.py#L666). Note that this is accomplished by copying the top of stack and pushing two copies of it onto the stack. This then feeds into the ReversibleHalfResidual layer which we'll review in more detail below. This is followed by [ReversibleSwap](https://github.com/google/trax/blob/190ec6c3d941d8a9f30422f27ef0c95dc16d2ab1/trax/layers/reversible.py#L83). As the name implies, this performs a swap, in this case, the two topmost entries in the stack. This pattern is repeated until we reach the end of the ReversibleSerial section. At that point, the topmost 2 entries of the stack represent the two paths through the network. These are concatenated and pushed onto the stack. The result is an entry that is twice the size of the non-reversible version.\n",
        "\n",
        "Let's look more closely at the [ReversibleHalfResidual](https://github.com/google/trax/blob/190ec6c3d941d8a9f30422f27ef0c95dc16d2ab1/trax/layers/reversible.py#L154). This layer is responsible for executing the layer or layers provided as arguments and adding the output of those layers, the 'residual', to the top of the stack. Below is the 'forward' routine which implements this.\n",
        "<img src = \"images/Revnet4.PNG\" height=\"650\" width=\"1600\">\n",
        "<center><b>Figure 10: ReversibleHalfResidual code and diagram </b></center>\n",
        "\n",
        "Unlike the previous residual function, the value that is added is from the second path rather than the input to the set of sublayers in this layer. Note that the Layers called by the ReversibleHalfResidual forward function are not modified to support reverse functionality. This layer provides them a 'normal' view of the stack and takes care of reverse operation.\n",
        "\n",
        "Let's try out some of these layers! We'll start with the ones that just operate on the stack, Dup() and Swap()."
      ]
    },
    {
      "cell_type": "code",
      "execution_count": null,
      "metadata": {
        "id": "vzr48vyYJhL-",
        "outputId": "305583d9-0a50-4e54-aaf1-da97a29bc4b6"
      },
      "outputs": [
        {
          "data": {
            "text/plain": [
              "(array([1]), array([1]))"
            ]
          },
          "execution_count": 33,
          "metadata": {},
          "output_type": "execute_result"
        }
      ],
      "source": [
        "x1 = np.array([1])\n",
        "x2 = np.array([5])\n",
        "# Dup() duplicates the Top of Stack and returns the stack\n",
        "dl = tl.Dup()\n",
        "dl(x1)"
      ]
    },
    {
      "cell_type": "code",
      "execution_count": null,
      "metadata": {
        "id": "1eTMQCMIJhL-",
        "outputId": "c5502353-05a3-46fc-f42a-fbf8a10dd62a"
      },
      "outputs": [
        {
          "data": {
            "text/plain": [
              "(array([5]), array([1]))"
            ]
          },
          "execution_count": 34,
          "metadata": {},
          "output_type": "execute_result"
        }
      ],
      "source": [
        "# ReversibleSwap() duplicates the Top of Stack and returns the stack\n",
        "sl = tl.ReversibleSwap()\n",
        "sl([x1, x2])"
      ]
    },
    {
      "cell_type": "markdown",
      "metadata": {
        "id": "JE90sEAMJhL_"
      },
      "source": [
        "You are no doubt wondering \"How is ReversibleSwap different from Swap?\". Good question! Lets look:\n",
        "<img src = \"images/Revnet5.PNG\" height=\"389\" width=\"1000\">\n",
        "<center><b>Figure 11: Two versions of Swap() </b></center>\n",
        "The ReverseXYZ functions include a \"reverse\" compliment to their \"forward\" function that provides the functionality to run in reverse when doing backpropagation. It can also be run in reverse by simply calling 'reverse'."
      ]
    },
    {
      "cell_type": "code",
      "execution_count": null,
      "metadata": {
        "id": "ewnnH9opJhL_",
        "outputId": "ba0c930b-78e1-4c4c-d845-757c89e25ddd"
      },
      "outputs": [
        {
          "name": "stdout",
          "output_type": "stream",
          "text": [
            "[1] [5] (array([5]), array([1]))\n"
          ]
        }
      ],
      "source": [
        "# Demonstrate reverse swap\n",
        "print(x1, x2, sl.reverse([x1, x2]))"
      ]
    },
    {
      "cell_type": "markdown",
      "metadata": {
        "id": "tn2f9wmSJhMA"
      },
      "source": [
        "Let's try ReversibleHalfResidual, First we'll need some layers.."
      ]
    },
    {
      "cell_type": "code",
      "execution_count": null,
      "metadata": {
        "id": "-W8LK9y9JhMA"
      },
      "outputs": [],
      "source": [
        "Fl = tl.Fn(\"F\", lambda x0: (2 * x0), n_out=1)\n",
        "Gl = tl.Fn(\"G\", lambda x0: (10 * x0), n_out=1)"
      ]
    },
    {
      "cell_type": "markdown",
      "metadata": {
        "id": "JwxRwbCIJhMA"
      },
      "source": [
        "Just a note about ReversibleHalfResidual. As this is written, it resides in the Reformer model and is a layer. It is invoked a bit differently than other layers. Rather than tl.XYZ, it is just ReversibleHalfResidual(layers..) as shown below. This may change in the future."
      ]
    },
    {
      "cell_type": "code",
      "execution_count": null,
      "metadata": {
        "id": "7C8G8TfMJhMB",
        "outputId": "b23b35ee-f115-44b4-c8f1-2b901aa737cb"
      },
      "outputs": [
        {
          "name": "stdout",
          "output_type": "stream",
          "text": [
            "<class 'trax.layers.reversible.ReversibleHalfResidual'> \n",
            " ReversibleHalfResidual_in2_out2[\n",
            "  Serial[\n",
            "    F\n",
            "  ]\n",
            "]\n"
          ]
        }
      ],
      "source": [
        "half_res_F = ReversibleHalfResidual(Fl)\n",
        "print(type(half_res_F), \"\\n\", half_res_F)"
      ]
    },
    {
      "cell_type": "code",
      "execution_count": null,
      "metadata": {
        "id": "8jgzc3fSJhMB",
        "outputId": "b6cdae77-c0b6-4762-f340-2271a5a8f164"
      },
      "outputs": [
        {
          "ename": "LayerError",
          "evalue": "Exception passing through layer ReversibleHalfResidual (in pure_fn):\n  layer created in file [...]/<ipython-input-37-7e8a712ea261>, line 1\n  layer input shapes: [ShapeDtype{shape:(1,), dtype:int64}, ShapeDtype{shape:(1,), dtype:int64}]\n\n  File [...]/trax/layers/base.py, line 707, in __setattr__\n    super().__setattr__(attr, value)\n\n  File [...]/trax/layers/base.py, line 454, in weights\n    f'Number of weight elements ({len(weights)}) does not equal the '\n\nValueError: Number of weight elements (0) does not equal the number of sublayers (1) in: ReversibleHalfResidual_in2_out2[\n  Serial[\n\n    F\n  ]\n\n].",
          "output_type": "error",
          "traceback": [
            "\u001b[0;31m---------------------------------------------------------------------------\u001b[0m",
            "\u001b[0;31mLayerError\u001b[0m                                Traceback (most recent call last)",
            "\u001b[0;32m<ipython-input-43-d8b20394ac27>\u001b[0m in \u001b[0;36m<module>\u001b[0;34m\u001b[0m\n\u001b[0;32m----> 1\u001b[0;31m \u001b[0mhalf_res_F\u001b[0m\u001b[0;34m(\u001b[0m\u001b[0;34m[\u001b[0m\u001b[0mx1\u001b[0m\u001b[0;34m,\u001b[0m \u001b[0mx1\u001b[0m\u001b[0;34m]\u001b[0m\u001b[0;34m)\u001b[0m  \u001b[0;31m# this is going to produce an error - why?\u001b[0m\u001b[0;34m\u001b[0m\u001b[0;34m\u001b[0m\u001b[0m\n\u001b[0m",
            "\u001b[0;32m/opt/conda/lib/python3.7/site-packages/trax/layers/base.py\u001b[0m in \u001b[0;36m__call__\u001b[0;34m(self, x, weights, state, rng)\u001b[0m\n\u001b[1;32m    195\u001b[0m       \u001b[0mself\u001b[0m\u001b[0;34m.\u001b[0m\u001b[0mstate\u001b[0m \u001b[0;34m=\u001b[0m \u001b[0mstate\u001b[0m  \u001b[0;31m# Needed if the model wasn't fully initialized.\u001b[0m\u001b[0;34m\u001b[0m\u001b[0;34m\u001b[0m\u001b[0m\n\u001b[1;32m    196\u001b[0m     \u001b[0mstate\u001b[0m \u001b[0;34m=\u001b[0m \u001b[0mself\u001b[0m\u001b[0;34m.\u001b[0m\u001b[0mstate\u001b[0m\u001b[0;34m\u001b[0m\u001b[0;34m\u001b[0m\u001b[0m\n\u001b[0;32m--> 197\u001b[0;31m     \u001b[0moutputs\u001b[0m\u001b[0;34m,\u001b[0m \u001b[0mnew_state\u001b[0m \u001b[0;34m=\u001b[0m \u001b[0mself\u001b[0m\u001b[0;34m.\u001b[0m\u001b[0mpure_fn\u001b[0m\u001b[0;34m(\u001b[0m\u001b[0mx\u001b[0m\u001b[0;34m,\u001b[0m \u001b[0mweights\u001b[0m\u001b[0;34m,\u001b[0m \u001b[0mstate\u001b[0m\u001b[0;34m,\u001b[0m \u001b[0mrng\u001b[0m\u001b[0;34m)\u001b[0m\u001b[0;34m\u001b[0m\u001b[0;34m\u001b[0m\u001b[0m\n\u001b[0m\u001b[1;32m    198\u001b[0m     \u001b[0mself\u001b[0m\u001b[0;34m.\u001b[0m\u001b[0mstate\u001b[0m \u001b[0;34m=\u001b[0m \u001b[0mnew_state\u001b[0m\u001b[0;34m\u001b[0m\u001b[0;34m\u001b[0m\u001b[0m\n\u001b[1;32m    199\u001b[0m     \u001b[0;32mreturn\u001b[0m \u001b[0moutputs\u001b[0m\u001b[0;34m\u001b[0m\u001b[0;34m\u001b[0m\u001b[0m\n",
            "\u001b[0;32m/opt/conda/lib/python3.7/site-packages/trax/layers/base.py\u001b[0m in \u001b[0;36mpure_fn\u001b[0;34m(self, x, weights, state, rng, use_cache)\u001b[0m\n\u001b[1;32m    604\u001b[0m       \u001b[0mname\u001b[0m\u001b[0;34m,\u001b[0m \u001b[0mtrace\u001b[0m \u001b[0;34m=\u001b[0m \u001b[0mself\u001b[0m\u001b[0;34m.\u001b[0m\u001b[0m_name\u001b[0m\u001b[0;34m,\u001b[0m \u001b[0m_short_traceback\u001b[0m\u001b[0;34m(\u001b[0m\u001b[0mskip\u001b[0m\u001b[0;34m=\u001b[0m\u001b[0;36m3\u001b[0m\u001b[0;34m)\u001b[0m\u001b[0;34m\u001b[0m\u001b[0;34m\u001b[0m\u001b[0m\n\u001b[1;32m    605\u001b[0m       raise LayerError(name, 'pure_fn',\n\u001b[0;32m--> 606\u001b[0;31m                        self._caller, signature(x), trace) from None\n\u001b[0m\u001b[1;32m    607\u001b[0m \u001b[0;34m\u001b[0m\u001b[0m\n\u001b[1;32m    608\u001b[0m   \u001b[0;32mdef\u001b[0m \u001b[0moutput_signature\u001b[0m\u001b[0;34m(\u001b[0m\u001b[0mself\u001b[0m\u001b[0;34m,\u001b[0m \u001b[0minput_signature\u001b[0m\u001b[0;34m)\u001b[0m\u001b[0;34m:\u001b[0m\u001b[0;34m\u001b[0m\u001b[0;34m\u001b[0m\u001b[0m\n",
            "\u001b[0;31mLayerError\u001b[0m: Exception passing through layer ReversibleHalfResidual (in pure_fn):\n  layer created in file [...]/<ipython-input-37-7e8a712ea261>, line 1\n  layer input shapes: [ShapeDtype{shape:(1,), dtype:int64}, ShapeDtype{shape:(1,), dtype:int64}]\n\n  File [...]/trax/layers/base.py, line 707, in __setattr__\n    super().__setattr__(attr, value)\n\n  File [...]/trax/layers/base.py, line 454, in weights\n    f'Number of weight elements ({len(weights)}) does not equal the '\n\nValueError: Number of weight elements (0) does not equal the number of sublayers (1) in: ReversibleHalfResidual_in2_out2[\n  Serial[\n\n    F\n  ]\n\n]."
          ]
        }
      ],
      "source": [
        "half_res_F([x1, x1])  # this is going to produce an error - why?"
      ]
    },
    {
      "cell_type": "code",
      "execution_count": null,
      "metadata": {
        "id": "rFRkHmD2JhMC",
        "outputId": "31211c98-694c-48b8-8a3d-ff397199ee9a"
      },
      "outputs": [
        {
          "data": {
            "text/plain": [
              "(array([3]), array([1]))"
            ]
          },
          "execution_count": 44,
          "metadata": {},
          "output_type": "execute_result"
        }
      ],
      "source": [
        "# we have to initialize the ReversibleHalfResidual layer to let it know what the input is going to look like\n",
        "half_res_F.init(shapes.signature([x1, x1]))\n",
        "half_res_F([x1, x1])"
      ]
    },
    {
      "cell_type": "markdown",
      "metadata": {
        "id": "0IxAkNW7JhMC"
      },
      "source": [
        "The final layer we need is the ReversibleSerial Layer. This is the reversible equivalent of the Serial layer and is used in the same manner to build a sequence of layers."
      ]
    },
    {
      "cell_type": "markdown",
      "metadata": {
        "id": "LvU2DDcOJhMC"
      },
      "source": [
        "<a name=\"2.2\"></a>\n",
        "### Part 2.2  Build a reversible model\n",
        "We now have all the layers we need to build the model shown below. Let's build it in two parts. First we'll build 'blk' and then a list of blk's. And then 'mod'.\n",
        "<center><img src = \"images/Revnet6.PNG\" height=\"800\" width=\"1600\"> </center>\n",
        "<center><b>Figure 12: Reversible Model we will build using Trax components </b></center>"
      ]
    },
    {
      "cell_type": "code",
      "execution_count": null,
      "metadata": {
        "id": "0NxKp2kEJhMC"
      },
      "outputs": [],
      "source": [
        "blk = [  # a list of the 4 layers shown above\n",
        "    ### START CODE HERE ###\n",
        "    None,\n",
        "    None,\n",
        "    None,\n",
        "    None,\n",
        "]\n",
        "blks = [None, None]\n",
        "### END CODE HERE ###"
      ]
    },
    {
      "cell_type": "code",
      "source": [
        "mod = tl.Serial(\n",
        "    ### START CODE HERE ###\n",
        "    None,\n",
        "    None,\n",
        "    None,\n",
        "    ### END CODE HERE ###\n",
        ")\n",
        "mod"
      ],
      "metadata": {
        "id": "YyzweK4fJrwy"
      },
      "execution_count": null,
      "outputs": []
    },
    {
      "cell_type": "markdown",
      "metadata": {
        "id": "2ChQ-aUsJhMD"
      },
      "source": [
        "**Expected Output**\n",
        "```\n",
        "Serial[\n",
        "  Dup_out2\n",
        "  ReversibleHalfResidual_in2_out2[\n",
        "    Serial[\n",
        "      F\n",
        "    ]\n",
        "  ]\n",
        "  ReversibleSwap_in2_out2\n",
        "  ReversibleHalfResidual_in2_out2[\n",
        "    Serial[\n",
        "      G\n",
        "    ]\n",
        "  ]\n",
        "  ReversibleSwap_in2_out2\n",
        "  ReversibleHalfResidual_in2_out2[\n",
        "    Serial[\n",
        "      F\n",
        "    ]\n",
        "  ]\n",
        "  ReversibleSwap_in2_out2\n",
        "  ReversibleHalfResidual_in2_out2[\n",
        "    Serial[\n",
        "      G\n",
        "    ]\n",
        "  ]\n",
        "  ReversibleSwap_in2_out2\n",
        "  Concatenate_in2\n",
        "]\n",
        "```"
      ]
    },
    {
      "cell_type": "code",
      "execution_count": null,
      "metadata": {
        "id": "m-_T5pXmJhMD"
      },
      "outputs": [],
      "source": [
        "mod.init(shapes.signature(x1))\n",
        "out = mod(x1)\n",
        "out"
      ]
    },
    {
      "cell_type": "markdown",
      "metadata": {
        "id": "IMombU9_JhME"
      },
      "source": [
        "**Expected Result**\n",
        "DeviceArray([ 65, 681], dtype=int32)"
      ]
    }
  ],
  "metadata": {
    "kernelspec": {
      "display_name": "Python 3",
      "language": "python",
      "name": "python3"
    },
    "language_info": {
      "codemirror_mode": {
        "name": "ipython",
        "version": 3
      },
      "file_extension": ".py",
      "mimetype": "text/x-python",
      "name": "python",
      "nbconvert_exporter": "python",
      "pygments_lexer": "ipython3",
      "version": "3.7.6"
    },
    "colab": {
      "name": "C4_W4_Ungraded_Lab_2_Revnet.ipynb",
      "provenance": [],
      "include_colab_link": true
    }
  },
  "nbformat": 4,
  "nbformat_minor": 0
}