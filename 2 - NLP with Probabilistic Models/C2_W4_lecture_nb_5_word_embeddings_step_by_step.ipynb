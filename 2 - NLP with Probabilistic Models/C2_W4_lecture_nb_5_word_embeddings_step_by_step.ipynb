{
  "cells": [
    {
      "cell_type": "markdown",
      "metadata": {
        "id": "view-in-github",
        "colab_type": "text"
      },
      "source": [
        "<a href=\"https://colab.research.google.com/github/EbisaAsfaw/NLP-Specialization/blob/main/2%20-%20NLP%20with%20Probabilistic%20Models/C2_W4_lecture_nb_5_word_embeddings_step_by_step.ipynb\" target=\"_parent\"><img src=\"https://colab.research.google.com/assets/colab-badge.svg\" alt=\"Open In Colab\"/></a>"
      ]
    },
    {
      "cell_type": "markdown",
      "metadata": {
        "id": "4Mlei9z6GwiO"
      },
      "source": [
        "# Word Embeddings: Ungraded Practice Notebook\n",
        "\n",
        "In this ungraded notebook, you'll try out all the individual techniques that you learned about in the lecture. Practicing on small examples will prepare you for the graded assignment, where you will combine the techniques in more advanced ways to create word embeddings from a real-life corpus.\n",
        "\n",
        "This notebook is made of two main parts: data preparation, and the continuous bag-of-words (CBOW) model.\n",
        "\n",
        "To get started, import and initialize all the libraries you will need."
      ]
    },
    {
      "cell_type": "code",
      "execution_count": null,
      "metadata": {
        "id": "hMqr6kj5GwiW",
        "outputId": "ec9cb6c6-de7a-49ce-eb21-09109612cdc6"
      },
      "outputs": [
        {
          "name": "stdout",
          "output_type": "stream",
          "text": [
            "Requirement already satisfied: emoji in /opt/conda/lib/python3.7/site-packages (1.4.1)\n",
            "\u001b[33mWARNING: You are using pip version 21.2.1; however, version 22.0.4 is available.\n",
            "You should consider upgrading via the '/opt/conda/bin/python -m pip install --upgrade pip' command.\u001b[0m\n"
          ]
        }
      ],
      "source": [
        "import sys\n",
        "!{sys.executable} -m pip install emoji"
      ]
    },
    {
      "cell_type": "code",
      "execution_count": null,
      "metadata": {
        "id": "Vvy4u1T0Gwia",
        "outputId": "82a20ecd-e5c1-4aed-f164-c8882eaab5e0"
      },
      "outputs": [
        {
          "name": "stderr",
          "output_type": "stream",
          "text": [
            "[nltk_data] Downloading package punkt to /home/jovyan/nltk_data...\n",
            "[nltk_data]   Unzipping tokenizers/punkt.zip.\n"
          ]
        },
        {
          "data": {
            "text/plain": [
              "True"
            ]
          },
          "execution_count": 2,
          "metadata": {},
          "output_type": "execute_result"
        }
      ],
      "source": [
        "import re\n",
        "import nltk\n",
        "from nltk.tokenize import word_tokenize\n",
        "import emoji\n",
        "import numpy as np\n",
        "\n",
        "from utils2 import get_dict\n",
        "\n",
        "nltk.download('punkt')  # download pre-trained Punkt tokenizer for English"
      ]
    },
    {
      "cell_type": "markdown",
      "metadata": {
        "id": "iTKm9dbJGwib"
      },
      "source": [
        "# Data preparation"
      ]
    },
    {
      "cell_type": "markdown",
      "metadata": {
        "id": "uMVyp_yyGwic"
      },
      "source": [
        "In the data preparation phase, starting with a corpus of text, you will:\n",
        "\n",
        "- Clean and tokenize the corpus.\n",
        "\n",
        "- Extract the pairs of context words and center word that will make up the training data set for the CBOW model. The context words are the features that will be fed into the model, and the center words are the target values that the model will learn to predict.\n",
        "\n",
        "- Create simple vector representations of the context words (features) and center words (targets) that can be used by the neural network of the CBOW model."
      ]
    },
    {
      "cell_type": "markdown",
      "metadata": {
        "id": "9f57dAb1Gwic"
      },
      "source": [
        "## Cleaning and tokenization\n",
        "\n",
        "To demonstrate the cleaning and tokenization process, consider a corpus that contains emojis and various punctuation signs."
      ]
    },
    {
      "cell_type": "code",
      "execution_count": null,
      "metadata": {
        "id": "jR8JudePGwid"
      },
      "outputs": [],
      "source": [
        "corpus = 'Who ❤️ \"word embeddings\" in 2020? I do!!!'"
      ]
    },
    {
      "cell_type": "markdown",
      "metadata": {
        "id": "bEzo84XlGwif"
      },
      "source": [
        "First, replace all interrupting punctuation signs — such as commas and exclamation marks — with periods."
      ]
    },
    {
      "cell_type": "code",
      "execution_count": null,
      "metadata": {
        "id": "L_RU_M49Gwig",
        "outputId": "35e82a4f-5624-46fc-9a6a-ffd6e1d15745"
      },
      "outputs": [
        {
          "name": "stdout",
          "output_type": "stream",
          "text": [
            "Corpus:  Who ❤️ \"word embeddings\" in 2020? I do!!!\n",
            "After cleaning punctuation:  Who ❤️ \"word embeddings\" in 2020. I do.\n"
          ]
        }
      ],
      "source": [
        "print(f'Corpus:  {corpus}')\n",
        "data = re.sub(r'[,!?;-]+', '.', corpus)\n",
        "print(f'After cleaning punctuation:  {data}')"
      ]
    },
    {
      "cell_type": "markdown",
      "metadata": {
        "id": "qo-aASpZGwih"
      },
      "source": [
        "Next, use NLTK's tokenization engine to split the corpus into individual tokens."
      ]
    },
    {
      "cell_type": "code",
      "execution_count": null,
      "metadata": {
        "id": "fEFM_QBRGwii",
        "outputId": "4f3dfaad-a679-4e1d-85df-6506c9a0a681"
      },
      "outputs": [
        {
          "name": "stdout",
          "output_type": "stream",
          "text": [
            "Initial string:  Who ❤️ \"word embeddings\" in 2020. I do.\n",
            "After tokenization:  ['Who', '❤️', '``', 'word', 'embeddings', \"''\", 'in', '2020', '.', 'I', 'do', '.']\n"
          ]
        }
      ],
      "source": [
        "print(f'Initial string:  {data}')\n",
        "data = nltk.word_tokenize(data)\n",
        "print(f'After tokenization:  {data}')"
      ]
    },
    {
      "cell_type": "markdown",
      "metadata": {
        "id": "HlnhVCRIGwij"
      },
      "source": [
        "Finally, as you saw in the lecture, get rid of numbers and punctuation other than periods, and convert all the remaining tokens to lowercase."
      ]
    },
    {
      "cell_type": "code",
      "execution_count": null,
      "metadata": {
        "id": "KSy9pu_aGwik",
        "outputId": "c8e5a2a3-6a4b-434c-e9bf-e0e58999cb57"
      },
      "outputs": [
        {
          "name": "stdout",
          "output_type": "stream",
          "text": [
            "Initial list of tokens:  ['Who', '❤️', '``', 'word', 'embeddings', \"''\", 'in', '2020', '.', 'I', 'do', '.']\n",
            "After cleaning:  ['who', '❤️', 'word', 'embeddings', 'in', '.', 'i', 'do', '.']\n"
          ]
        }
      ],
      "source": [
        "print(f'Initial list of tokens:  {data}')\n",
        "data = [ ch.lower() for ch in data\n",
        "         if ch.isalpha()\n",
        "         or ch == '.'\n",
        "         or emoji.get_emoji_regexp().search(ch)\n",
        "       ]\n",
        "print(f'After cleaning:  {data}')"
      ]
    },
    {
      "cell_type": "markdown",
      "metadata": {
        "id": "eKQ2L2uoGwik"
      },
      "source": [
        "Note that the heart emoji is considered as a token just like any normal word.\n",
        "\n",
        "Now let's streamline the cleaning and tokenization process by wrapping the previous steps in a function."
      ]
    },
    {
      "cell_type": "code",
      "execution_count": null,
      "metadata": {
        "id": "UV_hxxfdGwil"
      },
      "outputs": [],
      "source": [
        "def tokenize(corpus):\n",
        "    data = re.sub(r'[,!?;-]+', '.', corpus)\n",
        "    data = nltk.word_tokenize(data)  # tokenize string to words\n",
        "    data = [ ch.lower() for ch in data\n",
        "             if ch.isalpha()\n",
        "             or ch == '.'\n",
        "             or emoji.get_emoji_regexp().search(ch)\n",
        "           ]\n",
        "    return data"
      ]
    },
    {
      "cell_type": "markdown",
      "metadata": {
        "id": "qWX4mFvMGwim"
      },
      "source": [
        "Apply this function to the corpus that you'll be working on in the rest of this notebook: \"I am happy because I am learning\""
      ]
    },
    {
      "cell_type": "code",
      "execution_count": null,
      "metadata": {
        "id": "HauhdCQFGwin",
        "outputId": "a8891843-07f7-42a1-a908-bec8f688a2b9"
      },
      "outputs": [
        {
          "name": "stdout",
          "output_type": "stream",
          "text": [
            "Corpus:  I am happy because I am learning\n",
            "Words (tokens):  ['i', 'am', 'happy', 'because', 'i', 'am', 'learning']\n"
          ]
        }
      ],
      "source": [
        "corpus = 'I am happy because I am learning'\n",
        "print(f'Corpus:  {corpus}')\n",
        "words = tokenize(corpus)\n",
        "print(f'Words (tokens):  {words}')"
      ]
    },
    {
      "cell_type": "markdown",
      "metadata": {
        "id": "4EtKIVfrGwio"
      },
      "source": [
        "**Now try it out yourself with your own sentence.**"
      ]
    },
    {
      "cell_type": "code",
      "execution_count": null,
      "metadata": {
        "id": "tqwhN1I5Gwio",
        "outputId": "a3f81f96-0607-42f5-cd6d-f2267da55f61"
      },
      "outputs": [
        {
          "data": {
            "text/plain": [
              "['now', 'it', 'your', 'turn', 'try', 'with', 'your', 'own', 'sentence', '.']"
            ]
          },
          "execution_count": 9,
          "metadata": {},
          "output_type": "execute_result"
        }
      ],
      "source": [
        "tokenize(\"Now it's your turn: try with your own sentence!\")"
      ]
    },
    {
      "cell_type": "markdown",
      "metadata": {
        "id": "vhwyTMfOGwip"
      },
      "source": [
        "## Sliding window of words"
      ]
    },
    {
      "cell_type": "markdown",
      "metadata": {
        "id": "2_xLhYBhGwip"
      },
      "source": [
        "Now that you have transformed the corpus into a list of clean tokens, you can slide a window of words across this list. For each window you can extract a center word and the context words.\n",
        "\n",
        "The `get_windows` function in the next cell was introduced in the lecture."
      ]
    },
    {
      "cell_type": "code",
      "execution_count": null,
      "metadata": {
        "id": "ERGf7YUIGwiq"
      },
      "outputs": [],
      "source": [
        "def get_windows(words, C):\n",
        "    i = C\n",
        "    while i < len(words) - C:\n",
        "        center_word = words[i]\n",
        "        context_words = words[(i - C):i] + words[(i+1):(i+C+1)]\n",
        "        yield context_words, center_word\n",
        "        i += 1"
      ]
    },
    {
      "cell_type": "markdown",
      "metadata": {
        "id": "w5qo5oy-Gwiq"
      },
      "source": [
        "The first argument of this function is a list of words (or tokens). The second argument, `C`, is the context half-size. Recall that for a given center word, the context words are made of `C` words to the left and `C` words to the right of the center word.\n",
        "\n",
        "Here is how you can use this function to extract context words and center words from a list of tokens. These context and center words will make up the training set that you will use to train the CBOW model."
      ]
    },
    {
      "cell_type": "code",
      "execution_count": null,
      "metadata": {
        "id": "ZB9KZM9MGwir",
        "outputId": "ab2e422c-f897-42bf-a721-8c768eb3a9e0"
      },
      "outputs": [
        {
          "name": "stdout",
          "output_type": "stream",
          "text": [
            "['i', 'am', 'because', 'i']\thappy\n",
            "['am', 'happy', 'i', 'am']\tbecause\n",
            "['happy', 'because', 'am', 'learning']\ti\n"
          ]
        }
      ],
      "source": [
        "for x, y in get_windows(\n",
        "            ['i', 'am', 'happy', 'because', 'i', 'am', 'learning'],\n",
        "            2\n",
        "        ):\n",
        "    print(f'{x}\\t{y}')"
      ]
    },
    {
      "cell_type": "markdown",
      "metadata": {
        "id": "3MnR5wQ3Gwir"
      },
      "source": [
        "The first example of the training set is made of:\n",
        "\n",
        "- the context words \"i\", \"am\", \"because\", \"i\",\n",
        "\n",
        "- and the center word to be predicted: \"happy\".\n",
        "\n",
        "**Now try it out yourself. In the next cell, you can change both the sentence and the context half-size.**"
      ]
    },
    {
      "cell_type": "code",
      "execution_count": null,
      "metadata": {
        "id": "I4Ea3KxsGwir",
        "outputId": "20a91626-ba56-414b-d3bd-a5fb5c185cd5"
      },
      "outputs": [
        {
          "name": "stdout",
          "output_type": "stream",
          "text": [
            "['now', 'your']\tit\n",
            "['it', 'turn']\tyour\n",
            "['your', 'try']\tturn\n",
            "['turn', 'with']\ttry\n",
            "['try', 'your']\twith\n",
            "['with', 'own']\tyour\n",
            "['your', 'sentence']\town\n",
            "['own', '.']\tsentence\n"
          ]
        }
      ],
      "source": [
        "for x, y in get_windows(tokenize(\"Now it's your turn: try with your own sentence!\"), 1):\n",
        "    print(f'{x}\\t{y}')"
      ]
    },
    {
      "cell_type": "markdown",
      "metadata": {
        "id": "zTDby90fGwis"
      },
      "source": [
        "## Transforming words into vectors for the training set"
      ]
    },
    {
      "cell_type": "markdown",
      "metadata": {
        "id": "J-ieP4FGGwit"
      },
      "source": [
        "To finish preparing the training set, you need to transform the context words and center words into vectors.\n",
        "\n",
        "### Mapping words to indices and indices to words\n",
        "\n",
        "The center words will be represented as one-hot vectors, and the vectors that represent context words are also based on one-hot vectors.\n",
        "\n",
        "To create one-hot word vectors, you can start by mapping each unique word to a unique integer (or index). We have provided a helper function, `get_dict`, that creates a Python dictionary that maps words to integers and back."
      ]
    },
    {
      "cell_type": "code",
      "execution_count": null,
      "metadata": {
        "id": "RGpoeR2dGwit"
      },
      "outputs": [],
      "source": [
        "word2Ind, Ind2word = get_dict(words)"
      ]
    },
    {
      "cell_type": "markdown",
      "metadata": {
        "id": "XDb2gXIpGwit"
      },
      "source": [
        "Here's the dictionary that maps words to numeric indices."
      ]
    },
    {
      "cell_type": "code",
      "execution_count": null,
      "metadata": {
        "scrolled": true,
        "id": "Q5fPybEsGwiu",
        "outputId": "4e31a9df-1146-4cce-a6ba-d0bddbc28e3a"
      },
      "outputs": [
        {
          "data": {
            "text/plain": [
              "{'am': 0, 'because': 1, 'happy': 2, 'i': 3, 'learning': 4}"
            ]
          },
          "execution_count": 14,
          "metadata": {},
          "output_type": "execute_result"
        }
      ],
      "source": [
        "word2Ind"
      ]
    },
    {
      "cell_type": "markdown",
      "metadata": {
        "id": "PvxAlHqWGwiu"
      },
      "source": [
        "You can use this dictionary to get the index of a word."
      ]
    },
    {
      "cell_type": "code",
      "execution_count": null,
      "metadata": {
        "id": "CcDd1FRtGwiu",
        "outputId": "e0c2759c-94ac-413c-ebd3-e3f489b3d04c"
      },
      "outputs": [
        {
          "name": "stdout",
          "output_type": "stream",
          "text": [
            "Index of the word 'i':   3\n"
          ]
        }
      ],
      "source": [
        "print(\"Index of the word 'i':  \",word2Ind['i'])"
      ]
    },
    {
      "cell_type": "markdown",
      "metadata": {
        "id": "Xh9OFE8KGwiv"
      },
      "source": [
        "And conversely, here's the dictionary that maps indices to words."
      ]
    },
    {
      "cell_type": "code",
      "execution_count": null,
      "metadata": {
        "id": "zbNop_IRGwiv",
        "outputId": "cc4e68a9-69d6-43cc-eb0f-b65582afdc34"
      },
      "outputs": [
        {
          "data": {
            "text/plain": [
              "{0: 'am', 1: 'because', 2: 'happy', 3: 'i', 4: 'learning'}"
            ]
          },
          "execution_count": 17,
          "metadata": {},
          "output_type": "execute_result"
        }
      ],
      "source": [
        "Ind2word"
      ]
    },
    {
      "cell_type": "code",
      "execution_count": null,
      "metadata": {
        "scrolled": true,
        "id": "Lz5Uoe7NGwiv",
        "outputId": "735ac3ec-c911-408c-92ce-23ab2b26ec9e"
      },
      "outputs": [
        {
          "name": "stdout",
          "output_type": "stream",
          "text": [
            "Word which has index 2:   happy\n"
          ]
        }
      ],
      "source": [
        "print(\"Word which has index 2:  \",Ind2word[2] )"
      ]
    },
    {
      "cell_type": "markdown",
      "metadata": {
        "id": "8_dK_N5uGwiw"
      },
      "source": [
        "Finally, get the length of either of these dictionaries to get the size of the vocabulary of your corpus, in other words the number of different words making up the corpus."
      ]
    },
    {
      "cell_type": "code",
      "execution_count": null,
      "metadata": {
        "id": "-xYIUIuxGwiw",
        "outputId": "b6bc7417-9414-4815-98c5-6978c50af6b0"
      },
      "outputs": [
        {
          "name": "stdout",
          "output_type": "stream",
          "text": [
            "Size of vocabulary:  5\n"
          ]
        }
      ],
      "source": [
        "V = len(word2Ind)\n",
        "print(\"Size of vocabulary: \", V)"
      ]
    },
    {
      "cell_type": "markdown",
      "metadata": {
        "id": "lF9KV3LHGwix"
      },
      "source": [
        "### Getting one-hot word vectors\n",
        "\n",
        "Recall from the lecture that you can easily convert an integer, $n$, into a one-hot vector.\n",
        "\n",
        "Consider the word \"happy\". First, retrieve its numeric index."
      ]
    },
    {
      "cell_type": "code",
      "execution_count": null,
      "metadata": {
        "id": "Y-c3l9-yGwix",
        "outputId": "78d59e56-b0d4-4f33-9453-15a06d72f020"
      },
      "outputs": [
        {
          "data": {
            "text/plain": [
              "2"
            ]
          },
          "execution_count": 20,
          "metadata": {},
          "output_type": "execute_result"
        }
      ],
      "source": [
        "n = word2Ind['happy']\n",
        "n"
      ]
    },
    {
      "cell_type": "markdown",
      "metadata": {
        "id": "hUSZ8fPeGwix"
      },
      "source": [
        "Now create a vector with the size of the vocabulary, and fill it with zeros."
      ]
    },
    {
      "cell_type": "code",
      "execution_count": null,
      "metadata": {
        "id": "dizYoFxhGwiy",
        "outputId": "2dd1ad52-5714-4e88-fbec-b96b5f8d8811"
      },
      "outputs": [
        {
          "data": {
            "text/plain": [
              "array([0., 0., 0., 0., 0.])"
            ]
          },
          "execution_count": 21,
          "metadata": {},
          "output_type": "execute_result"
        }
      ],
      "source": [
        "center_word_vector = np.zeros(V)\n",
        "center_word_vector"
      ]
    },
    {
      "cell_type": "markdown",
      "metadata": {
        "id": "ZScld-BuGwiy"
      },
      "source": [
        "You can confirm that the vector has the right size."
      ]
    },
    {
      "cell_type": "code",
      "execution_count": null,
      "metadata": {
        "id": "_FP89N0OGwiy",
        "outputId": "9994fded-d340-46ab-846a-ecc863a023bb"
      },
      "outputs": [
        {
          "data": {
            "text/plain": [
              "True"
            ]
          },
          "execution_count": 22,
          "metadata": {},
          "output_type": "execute_result"
        }
      ],
      "source": [
        "len(center_word_vector) == V"
      ]
    },
    {
      "cell_type": "markdown",
      "metadata": {
        "id": "KcYHwMVwGwiz"
      },
      "source": [
        "Next, replace the 0 of the $n$-th element with a 1."
      ]
    },
    {
      "cell_type": "code",
      "execution_count": null,
      "metadata": {
        "id": "hema7H1pGwiz"
      },
      "outputs": [],
      "source": [
        "center_word_vector[n] = 1"
      ]
    },
    {
      "cell_type": "markdown",
      "metadata": {
        "id": "SndbltVCGwiz"
      },
      "source": [
        "And you have your one-hot word vector."
      ]
    },
    {
      "cell_type": "code",
      "execution_count": null,
      "metadata": {
        "id": "ZI9BSlRBGwi0",
        "outputId": "b8dd7026-4176-4c56-f452-a79d781e6203"
      },
      "outputs": [
        {
          "data": {
            "text/plain": [
              "array([0., 0., 1., 0., 0.])"
            ]
          },
          "execution_count": 24,
          "metadata": {},
          "output_type": "execute_result"
        }
      ],
      "source": [
        "center_word_vector"
      ]
    },
    {
      "cell_type": "markdown",
      "metadata": {
        "id": "hAwQOFx9Gwi0"
      },
      "source": [
        "**You can now group all of these steps in a convenient function, which takes as parameters: a word to be encoded, a dictionary that maps words to indices, and the size of the vocabulary.**"
      ]
    },
    {
      "cell_type": "code",
      "execution_count": null,
      "metadata": {
        "id": "OuKW_d1nGwi0"
      },
      "outputs": [],
      "source": [
        "def word_to_one_hot_vector(word, word2Ind, V):\n",
        "    # BEGIN your code here\n",
        "    one_hot_vector = np.zeros(V)\n",
        "    one_hot_vector[word2Ind[word]] = 1\n",
        "    # END your code here\n",
        "    return one_hot_vector"
      ]
    },
    {
      "cell_type": "markdown",
      "metadata": {
        "id": "SEjjXCc4Gwi1"
      },
      "source": [
        "Check that it works as intended."
      ]
    },
    {
      "cell_type": "code",
      "execution_count": null,
      "metadata": {
        "id": "orDlwixcGwi1",
        "outputId": "a543ece4-a841-474e-d8db-57fee4a07e8e"
      },
      "outputs": [
        {
          "data": {
            "text/plain": [
              "array([0., 0., 1., 0., 0.])"
            ]
          },
          "execution_count": 26,
          "metadata": {},
          "output_type": "execute_result"
        }
      ],
      "source": [
        "word_to_one_hot_vector('happy', word2Ind, V)"
      ]
    },
    {
      "cell_type": "markdown",
      "metadata": {
        "id": "Ca7xrwrlGwi1"
      },
      "source": [
        "**What is the word vector for \"learning\"?**"
      ]
    },
    {
      "cell_type": "code",
      "execution_count": null,
      "metadata": {
        "id": "d9F97VuTGwi1",
        "outputId": "a38a26d7-88c3-493c-ad91-9664aa649bd6"
      },
      "outputs": [
        {
          "data": {
            "text/plain": [
              "array([0., 0., 0., 0., 1.])"
            ]
          },
          "execution_count": 27,
          "metadata": {},
          "output_type": "execute_result"
        }
      ],
      "source": [
        "# BEGIN your code here\n",
        "word_to_one_hot_vector('learning', word2Ind, V)\n",
        "# END your code here"
      ]
    },
    {
      "cell_type": "markdown",
      "metadata": {
        "id": "CmxKeX5aGwi2"
      },
      "source": [
        "Expected output:\n",
        "\n",
        "    array([0., 0., 0., 0., 1.])"
      ]
    },
    {
      "cell_type": "markdown",
      "metadata": {
        "id": "LkWnHH4nGwi2"
      },
      "source": [
        "### Getting context word vectors"
      ]
    },
    {
      "cell_type": "markdown",
      "metadata": {
        "id": "07faMnPbGwi2"
      },
      "source": [
        "To create the vectors that represent context words, you will calculate the average of the one-hot vectors representing the individual words.\n",
        "\n",
        "Let's start with a list of context words."
      ]
    },
    {
      "cell_type": "code",
      "execution_count": null,
      "metadata": {
        "id": "pPTMsUNcGwi3"
      },
      "outputs": [],
      "source": [
        "context_words = ['i', 'am', 'because', 'i']"
      ]
    },
    {
      "cell_type": "markdown",
      "metadata": {
        "id": "87mBcOIqGwi3"
      },
      "source": [
        "Using Python's list comprehension construct and the `word_to_one_hot_vector` function that you created in the previous section, you can create a list of one-hot vectors representing each of the context words."
      ]
    },
    {
      "cell_type": "code",
      "execution_count": null,
      "metadata": {
        "id": "LhvrLaifGwi3",
        "outputId": "1de87672-6484-438e-82f0-7f29c7e95c8e"
      },
      "outputs": [
        {
          "data": {
            "text/plain": [
              "[array([0., 0., 0., 1., 0.]),\n",
              " array([1., 0., 0., 0., 0.]),\n",
              " array([0., 1., 0., 0., 0.]),\n",
              " array([0., 0., 0., 1., 0.])]"
            ]
          },
          "execution_count": 29,
          "metadata": {},
          "output_type": "execute_result"
        }
      ],
      "source": [
        "context_words_vectors = [word_to_one_hot_vector(w, word2Ind, V) for w in context_words]\n",
        "context_words_vectors"
      ]
    },
    {
      "cell_type": "markdown",
      "metadata": {
        "id": "yjZXKn3UGwi4"
      },
      "source": [
        "And you can now simply get the average of these vectors using numpy's `mean` function, to get the vector representation of the context words."
      ]
    },
    {
      "cell_type": "code",
      "execution_count": null,
      "metadata": {
        "id": "Lcfv_RX4Gwi4",
        "outputId": "98130acd-0f74-46e7-d2b7-bca5f9b5c3b1"
      },
      "outputs": [
        {
          "data": {
            "text/plain": [
              "array([0.25, 0.25, 0.  , 0.5 , 0.  ])"
            ]
          },
          "execution_count": 30,
          "metadata": {},
          "output_type": "execute_result"
        }
      ],
      "source": [
        "np.mean(context_words_vectors, axis=0)"
      ]
    },
    {
      "cell_type": "markdown",
      "metadata": {
        "id": "_8MAugzZGwi4"
      },
      "source": [
        "Note the `axis=0` parameter that tells `mean` to calculate the average of the rows (if you had wanted the average of the columns, you would have used `axis=1`).\n",
        "\n",
        "**Now create the `context_words_to_vector` function that takes in a list of context words, a word-to-index dictionary, and a vocabulary size, and outputs the vector representation of the context words.**"
      ]
    },
    {
      "cell_type": "code",
      "execution_count": null,
      "metadata": {
        "id": "idRotdRKGwi5"
      },
      "outputs": [],
      "source": [
        "def context_words_to_vector(context_words, word2Ind, V):\n",
        "    # BEGIN your code here\n",
        "    context_words_vectors = [word_to_one_hot_vector(w, word2Ind, V) for w in context_words]\n",
        "    context_words_vectors = np.mean(context_words_vectors, axis=0)\n",
        "    # END your code here\n",
        "    return context_words_vectors"
      ]
    },
    {
      "cell_type": "markdown",
      "metadata": {
        "id": "bHK2aaPvGwi5"
      },
      "source": [
        "And check that you obtain the same output as the manual approach above."
      ]
    },
    {
      "cell_type": "code",
      "execution_count": null,
      "metadata": {
        "id": "FsBqrLIyGwi5",
        "outputId": "32a27f9f-e839-4b22-bc86-5063b3fe7be9"
      },
      "outputs": [
        {
          "data": {
            "text/plain": [
              "array([0.25, 0.25, 0.  , 0.5 , 0.  ])"
            ]
          },
          "execution_count": 32,
          "metadata": {},
          "output_type": "execute_result"
        }
      ],
      "source": [
        "context_words_to_vector(['i', 'am', 'because', 'i'], word2Ind, V)"
      ]
    },
    {
      "cell_type": "markdown",
      "metadata": {
        "id": "K8XGYQU9Gwi6"
      },
      "source": [
        "**What is the vector representation of the context words \"am happy i am\"?**"
      ]
    },
    {
      "cell_type": "code",
      "execution_count": null,
      "metadata": {
        "id": "nclNJhofGwi6",
        "outputId": "8ed435fc-2013-4594-ff5a-34f9aafae53e"
      },
      "outputs": [
        {
          "data": {
            "text/plain": [
              "array([0.5 , 0.  , 0.25, 0.25, 0.  ])"
            ]
          },
          "execution_count": 33,
          "metadata": {},
          "output_type": "execute_result"
        }
      ],
      "source": [
        "# BEGIN your code here\n",
        "context_words_to_vector(['am', 'happy', 'i', 'am'], word2Ind, V)\n",
        "# END your code here"
      ]
    },
    {
      "cell_type": "markdown",
      "metadata": {
        "id": "gOZ9nZu2Gwi6"
      },
      "source": [
        "Expected output:\n",
        "\n",
        "    array([0.5 , 0.  , 0.25, 0.25, 0.  ])"
      ]
    },
    {
      "cell_type": "markdown",
      "metadata": {
        "id": "ghaI_QZSGwi7"
      },
      "source": [
        "\n",
        "## Building the training set"
      ]
    },
    {
      "cell_type": "markdown",
      "metadata": {
        "id": "X0Ne6lU5Gwi7"
      },
      "source": [
        "You can now combine the functions that you created in the previous sections, to build a training set for the CBOW model, starting from the following tokenized corpus."
      ]
    },
    {
      "cell_type": "code",
      "execution_count": null,
      "metadata": {
        "id": "8FcLe2HPGwi8",
        "outputId": "0b402e0a-eae6-4b78-8768-69b291898446"
      },
      "outputs": [
        {
          "data": {
            "text/plain": [
              "['i', 'am', 'happy', 'because', 'i', 'am', 'learning']"
            ]
          },
          "execution_count": 34,
          "metadata": {},
          "output_type": "execute_result"
        }
      ],
      "source": [
        "words"
      ]
    },
    {
      "cell_type": "markdown",
      "metadata": {
        "id": "MDyECileGwi8"
      },
      "source": [
        "To do this you need to use the sliding window function (`get_windows`) to extract the context words and center words, and you then convert these sets of words into a basic vector representation using `word_to_one_hot_vector` and `context_words_to_vector`."
      ]
    },
    {
      "cell_type": "code",
      "execution_count": null,
      "metadata": {
        "id": "3NdYrx61Gwi8",
        "outputId": "929df7be-c338-436f-d9d2-03227c2832ad"
      },
      "outputs": [
        {
          "name": "stdout",
          "output_type": "stream",
          "text": [
            "Context words:  ['i', 'am', 'because', 'i'] -> [0.25 0.25 0.   0.5  0.  ]\n",
            "Center word:  happy -> [0. 0. 1. 0. 0.]\n",
            "\n",
            "Context words:  ['am', 'happy', 'i', 'am'] -> [0.5  0.   0.25 0.25 0.  ]\n",
            "Center word:  because -> [0. 1. 0. 0. 0.]\n",
            "\n",
            "Context words:  ['happy', 'because', 'am', 'learning'] -> [0.25 0.25 0.25 0.   0.25]\n",
            "Center word:  i -> [0. 0. 0. 1. 0.]\n",
            "\n"
          ]
        }
      ],
      "source": [
        "for context_words, center_word in get_windows(words, 2):  # reminder: 2 is the context half-size\n",
        "    print(f'Context words:  {context_words} -> {context_words_to_vector(context_words, word2Ind, V)}')\n",
        "    print(f'Center word:  {center_word} -> {word_to_one_hot_vector(center_word, word2Ind, V)}')\n",
        "    print()"
      ]
    },
    {
      "cell_type": "markdown",
      "metadata": {
        "id": "vdrHKsd6Gwi9"
      },
      "source": [
        "In this practice notebook you'll be performing a single iteration of training using a single example, but in this week's assignment you'll train the CBOW model using several iterations and batches of example.\n",
        "Here is how you would use a Python generator function (remember the `yield` keyword from the lecture?) to make it easier to iterate over a set of examples."
      ]
    },
    {
      "cell_type": "code",
      "execution_count": null,
      "metadata": {
        "id": "z_3pvYLvGwi9"
      },
      "outputs": [],
      "source": [
        "def get_training_example(words, C, word2Ind, V):\n",
        "    for context_words, center_word in get_windows(words, C):\n",
        "        yield context_words_to_vector(context_words, word2Ind, V), word_to_one_hot_vector(center_word, word2Ind, V)"
      ]
    },
    {
      "cell_type": "markdown",
      "metadata": {
        "id": "yrbMTCUaGwi9"
      },
      "source": [
        "The output of this function can be iterated on to get successive context word vectors and center word vectors, as demonstrated in the next cell."
      ]
    },
    {
      "cell_type": "code",
      "execution_count": null,
      "metadata": {
        "id": "SbCGSF4lGwi-",
        "outputId": "d15b08ed-2dc7-42cf-fc5f-3cdc05937c4f"
      },
      "outputs": [
        {
          "name": "stdout",
          "output_type": "stream",
          "text": [
            "Context words vector:  [0.25 0.25 0.   0.5  0.  ]\n",
            "Center word vector:  [0. 0. 1. 0. 0.]\n",
            "\n",
            "Context words vector:  [0.5  0.   0.25 0.25 0.  ]\n",
            "Center word vector:  [0. 1. 0. 0. 0.]\n",
            "\n",
            "Context words vector:  [0.25 0.25 0.25 0.   0.25]\n",
            "Center word vector:  [0. 0. 0. 1. 0.]\n",
            "\n"
          ]
        }
      ],
      "source": [
        "for context_words_vector, center_word_vector in get_training_example(words, 2, word2Ind, V):\n",
        "    print(f'Context words vector:  {context_words_vector}')\n",
        "    print(f'Center word vector:  {center_word_vector}')\n",
        "    print()"
      ]
    },
    {
      "cell_type": "markdown",
      "metadata": {
        "id": "gpgLV6OIGwi-"
      },
      "source": [
        "Your training set is ready, you can now move on to the CBOW model itself."
      ]
    },
    {
      "cell_type": "markdown",
      "metadata": {
        "id": "iLKYuwcUGwi-"
      },
      "source": [
        "# The continuous bag-of-words model"
      ]
    },
    {
      "cell_type": "markdown",
      "metadata": {
        "id": "f_2N2Q4LGwi_"
      },
      "source": [
        "The CBOW model is based on a neural network, the architecture of which looks like the figure below, as you'll recall from the lecture.\n",
        "\n",
        "<div style=\"width:image width px; font-size:100%; text-align:center;\"><img src='./images/cbow_model_architecture.png?1' alt=\"alternate text\" width=\"width\" height=\"height\" style=\"width:917;height:337;\" /> Figure 1 </div>\n",
        "\n",
        "This part of the notebook will walk you through:\n",
        "\n",
        "- The two activation functions used in the neural network.\n",
        "\n",
        "- Forward propagation.\n",
        "\n",
        "- Cross-entropy loss.\n",
        "\n",
        "- Backpropagation.\n",
        "\n",
        "- Gradient descent.\n",
        "\n",
        "- Extracting the word embedding vectors from the weight matrices once the neural network has been trained."
      ]
    },
    {
      "cell_type": "markdown",
      "metadata": {
        "id": "P3ywSEWAGwi_"
      },
      "source": [
        "## Activation functions"
      ]
    },
    {
      "cell_type": "markdown",
      "metadata": {
        "id": "PgbFKuSqGwi_"
      },
      "source": [
        "Let's start by implementing the activation functions, ReLU and softmax."
      ]
    },
    {
      "cell_type": "markdown",
      "metadata": {
        "id": "2m6IZWP_Gwi_"
      },
      "source": [
        "### ReLU"
      ]
    },
    {
      "cell_type": "markdown",
      "metadata": {
        "id": "h_HJ1R5sGwjA"
      },
      "source": [
        "ReLU is used to calculate the values of the hidden layer, in the following formulas:\n",
        "\n",
        "\\begin{align}\n",
        " \\mathbf{z_1} &= \\mathbf{W_1}\\mathbf{x} + \\mathbf{b_1}  \\tag{1} \\\\\n",
        " \\mathbf{h} &= \\mathrm{ReLU}(\\mathbf{z_1})  \\tag{2} \\\\\n",
        "\\end{align}\n"
      ]
    },
    {
      "cell_type": "markdown",
      "metadata": {
        "id": "DfvOM0EYGwjA"
      },
      "source": [
        "Let's fix a value for $\\mathbf{z_1}$ as a working example."
      ]
    },
    {
      "cell_type": "code",
      "execution_count": null,
      "metadata": {
        "id": "vPLw_ys3GwjA",
        "outputId": "98be18e7-9acb-46d2-f951-2b44bdf6e114"
      },
      "outputs": [
        {
          "data": {
            "text/plain": [
              "array([[ 2.71320643],\n",
              "       [-4.79248051],\n",
              "       [ 1.33648235],\n",
              "       [ 2.48803883],\n",
              "       [-0.01492988]])"
            ]
          },
          "execution_count": 39,
          "metadata": {},
          "output_type": "execute_result"
        }
      ],
      "source": [
        "np.random.seed(10)\n",
        "z_1 = 10*np.random.rand(5, 1)-5\n",
        "z_1"
      ]
    },
    {
      "cell_type": "markdown",
      "metadata": {
        "id": "G739f_awGwjB"
      },
      "source": [
        "To get the ReLU of this vector, you want all the negative values to become zeros.\n",
        "\n",
        "First create a copy of this vector."
      ]
    },
    {
      "cell_type": "code",
      "execution_count": null,
      "metadata": {
        "id": "LhnkJi6KGwjB"
      },
      "outputs": [],
      "source": [
        "h = z_1.copy()"
      ]
    },
    {
      "cell_type": "markdown",
      "metadata": {
        "id": "ngBe-S2jGwjB"
      },
      "source": [
        "Now determine which of its values are negative."
      ]
    },
    {
      "cell_type": "code",
      "execution_count": null,
      "metadata": {
        "id": "3WOadBdSGwjB",
        "outputId": "72d5e448-1175-4f56-c005-a0501dde48f7"
      },
      "outputs": [
        {
          "data": {
            "text/plain": [
              "array([[False],\n",
              "       [ True],\n",
              "       [False],\n",
              "       [False],\n",
              "       [ True]])"
            ]
          },
          "execution_count": 41,
          "metadata": {},
          "output_type": "execute_result"
        }
      ],
      "source": [
        "h < 0"
      ]
    },
    {
      "cell_type": "markdown",
      "metadata": {
        "id": "NLmCgEBqGwjC"
      },
      "source": [
        "You can now simply set all of the values which are negative to 0."
      ]
    },
    {
      "cell_type": "code",
      "execution_count": null,
      "metadata": {
        "id": "kHC0ypzPGwjC"
      },
      "outputs": [],
      "source": [
        "h[h < 0] = 0"
      ]
    },
    {
      "cell_type": "markdown",
      "metadata": {
        "id": "K7Y9ZEVCGwjC"
      },
      "source": [
        "And that's it: you have the ReLU of $\\mathbf{z_1}$!"
      ]
    },
    {
      "cell_type": "code",
      "execution_count": null,
      "metadata": {
        "id": "Wdq1i5O9GwjD",
        "outputId": "76aa006a-c33f-4cd3-f17c-51fe3fe08678"
      },
      "outputs": [
        {
          "data": {
            "text/plain": [
              "array([[2.71320643],\n",
              "       [0.        ],\n",
              "       [1.33648235],\n",
              "       [2.48803883],\n",
              "       [0.        ]])"
            ]
          },
          "execution_count": 43,
          "metadata": {},
          "output_type": "execute_result"
        }
      ],
      "source": [
        "h"
      ]
    },
    {
      "cell_type": "markdown",
      "metadata": {
        "id": "KMx4a1P3GwjD"
      },
      "source": [
        "**Now implement ReLU as a function.**"
      ]
    },
    {
      "cell_type": "code",
      "execution_count": null,
      "metadata": {
        "id": "OPrl0W_CGwjD"
      },
      "outputs": [],
      "source": [
        "def relu(z):\n",
        "    # BEGIN your code here\n",
        "    result = z.copy()\n",
        "    result[result < 0] = 0\n",
        "    # END your code here\n",
        "    \n",
        "    return result"
      ]
    },
    {
      "cell_type": "markdown",
      "metadata": {
        "id": "iM1sB3xNGwjE"
      },
      "source": [
        "**And check that it's working.**"
      ]
    },
    {
      "cell_type": "code",
      "execution_count": null,
      "metadata": {
        "id": "6oMV4I3WGwjE",
        "outputId": "39ab02ab-c080-4f80-e3f5-e5a8dba09afa"
      },
      "outputs": [
        {
          "data": {
            "text/plain": [
              "array([[0.        ],\n",
              "       [4.50714306],\n",
              "       [2.31993942],\n",
              "       [0.98658484],\n",
              "       [0.        ]])"
            ]
          },
          "execution_count": 45,
          "metadata": {},
          "output_type": "execute_result"
        }
      ],
      "source": [
        "z = np.array([[-1.25459881], [ 4.50714306], [ 2.31993942], [ 0.98658484], [-3.4398136 ]])\n",
        "relu(z)"
      ]
    },
    {
      "cell_type": "markdown",
      "metadata": {
        "id": "JqvvG5gkGwjE"
      },
      "source": [
        "Expected output:\n",
        "\n",
        "    array([[0.        ],\n",
        "           [4.50714306],\n",
        "           [2.31993942],\n",
        "           [0.98658484],\n",
        "           [0.        ]])"
      ]
    },
    {
      "cell_type": "markdown",
      "metadata": {
        "id": "A96gnWUJGwjE"
      },
      "source": [
        "### Softmax"
      ]
    },
    {
      "cell_type": "markdown",
      "metadata": {
        "id": "zzgw-qsiGwjF"
      },
      "source": [
        "The second activation function that you need is softmax. This function is used to calculate the values of the output layer of the neural network, using the following formulas:\n",
        "\n",
        "\\begin{align}\n",
        " \\mathbf{z_2} &= \\mathbf{W_2}\\mathbf{h} + \\mathbf{b_2}   \\tag{3} \\\\\n",
        " \\mathbf{\\hat y} &= \\mathrm{softmax}(\\mathbf{z_2})   \\tag{4} \\\\\n",
        "\\end{align}\n",
        "\n",
        "To calculate softmax of a vector $\\mathbf{z}$, the $i$-th component of the resulting vector is given by:\n",
        "\n",
        "$$ \\textrm{softmax}(\\textbf{z})_i = \\frac{e^{z_i} }{\\sum\\limits_{j=1}^{V} e^{z_j} }  \\tag{5} $$\n",
        "\n",
        "Let's work through an example."
      ]
    },
    {
      "cell_type": "code",
      "execution_count": null,
      "metadata": {
        "id": "xl_MiptoGwjF",
        "outputId": "a15b2b86-379f-466a-aa70-b1165eb1b457"
      },
      "outputs": [
        {
          "data": {
            "text/plain": [
              "array([ 9. ,  8. , 11. , 10. ,  8.5])"
            ]
          },
          "execution_count": 46,
          "metadata": {},
          "output_type": "execute_result"
        }
      ],
      "source": [
        "z = np.array([9, 8, 11, 10, 8.5])\n",
        "z"
      ]
    },
    {
      "cell_type": "markdown",
      "metadata": {
        "id": "pIdyVcSuGwjF"
      },
      "source": [
        "You'll need to calculate the exponentials of each element, both for the numerator and for the denominator."
      ]
    },
    {
      "cell_type": "code",
      "execution_count": null,
      "metadata": {
        "id": "VwLHwKLTGwjG",
        "outputId": "0401f560-62a2-416b-e2b4-0ce0361d894a"
      },
      "outputs": [
        {
          "data": {
            "text/plain": [
              "array([ 8103.08392758,  2980.95798704, 59874.1417152 , 22026.46579481,\n",
              "        4914.7688403 ])"
            ]
          },
          "execution_count": 47,
          "metadata": {},
          "output_type": "execute_result"
        }
      ],
      "source": [
        "e_z = np.exp(z)\n",
        "e_z"
      ]
    },
    {
      "cell_type": "markdown",
      "metadata": {
        "id": "-klAzZlmGwjG"
      },
      "source": [
        "The denominator is equal to the sum of these exponentials."
      ]
    },
    {
      "cell_type": "code",
      "execution_count": null,
      "metadata": {
        "id": "oVERySxkGwjG",
        "outputId": "d65848ee-009b-428d-e9cb-da466b6bab05"
      },
      "outputs": [
        {
          "data": {
            "text/plain": [
              "97899.41826492078"
            ]
          },
          "execution_count": 48,
          "metadata": {},
          "output_type": "execute_result"
        }
      ],
      "source": [
        "sum_e_z = np.sum(e_z)\n",
        "sum_e_z"
      ]
    },
    {
      "cell_type": "markdown",
      "metadata": {
        "id": "aG0QNwyqGwjH"
      },
      "source": [
        "And the value of the first element of $\\textrm{softmax}(\\textbf{z})$ is given by:"
      ]
    },
    {
      "cell_type": "code",
      "execution_count": null,
      "metadata": {
        "id": "xvQi6vPwGwjH",
        "outputId": "41483668-bbb3-4158-fc98-08d38384d9a9"
      },
      "outputs": [
        {
          "data": {
            "text/plain": [
              "0.08276947985173956"
            ]
          },
          "execution_count": 49,
          "metadata": {},
          "output_type": "execute_result"
        }
      ],
      "source": [
        "e_z[0]/sum_e_z"
      ]
    },
    {
      "cell_type": "markdown",
      "metadata": {
        "id": "nxbB25QpGwjH"
      },
      "source": [
        "This is for one element. You can use numpy's vectorized operations to calculate the values of all the elements of the $\\textrm{softmax}(\\textbf{z})$ vector in one go.\n",
        "\n",
        "**Implement the softmax function.**"
      ]
    },
    {
      "cell_type": "code",
      "execution_count": null,
      "metadata": {
        "id": "SyYkQgcYGwjI"
      },
      "outputs": [],
      "source": [
        "def softmax(z):\n",
        "    # BEGIN your code here\n",
        "    e_z = np.exp(z)\n",
        "    sum_e_z = np.sum(e_z)\n",
        "    return e_z / sum_e_z\n",
        "    # END your code here"
      ]
    },
    {
      "cell_type": "markdown",
      "metadata": {
        "id": "PGXwwbHVGwjI"
      },
      "source": [
        "**Now check that it works.**"
      ]
    },
    {
      "cell_type": "code",
      "execution_count": null,
      "metadata": {
        "id": "oZou0brNGwjI",
        "outputId": "c45b93ca-9854-43bf-9cb5-dfff8998c318"
      },
      "outputs": [
        {
          "data": {
            "text/plain": [
              "array([0.08276948, 0.03044919, 0.61158833, 0.22499077, 0.05020223])"
            ]
          },
          "execution_count": 52,
          "metadata": {},
          "output_type": "execute_result"
        }
      ],
      "source": [
        "softmax([9, 8, 11, 10, 8.5])"
      ]
    },
    {
      "cell_type": "markdown",
      "metadata": {
        "id": "6X3BBBPkGwjJ"
      },
      "source": [
        "Expected output:\n",
        "\n",
        "    array([0.08276948, 0.03044919, 0.61158833, 0.22499077, 0.05020223])"
      ]
    },
    {
      "cell_type": "markdown",
      "metadata": {
        "id": "5z5YjpYIGwjJ"
      },
      "source": [
        "## Dimensions: 1-D arrays vs 2-D column vectors\n",
        "\n",
        "Before moving on to implement forward propagation, backpropagation, and gradient descent, let's have a look at the dimensions of the vectors you've been handling until now.\n",
        "\n",
        "Create a vector of length $V$ filled with zeros."
      ]
    },
    {
      "cell_type": "code",
      "execution_count": null,
      "metadata": {
        "scrolled": true,
        "id": "bMQ_tGoXGwjJ",
        "outputId": "8cc48a3b-42fa-4e78-9b79-542f865d63de"
      },
      "outputs": [
        {
          "data": {
            "text/plain": [
              "array([0., 0., 0., 0., 0.])"
            ]
          },
          "execution_count": 53,
          "metadata": {},
          "output_type": "execute_result"
        }
      ],
      "source": [
        "x_array = np.zeros(V)\n",
        "x_array"
      ]
    },
    {
      "cell_type": "markdown",
      "metadata": {
        "id": "bWjgQ4BpGwjK"
      },
      "source": [
        "This is a 1-dimensional array, as revealed by the `.shape` property of the array."
      ]
    },
    {
      "cell_type": "code",
      "execution_count": null,
      "metadata": {
        "id": "FlrSf7YLGwjK",
        "outputId": "dd0e4b86-9be4-4ed1-c76c-ac41f3ca51b3"
      },
      "outputs": [
        {
          "data": {
            "text/plain": [
              "(5,)"
            ]
          },
          "execution_count": 54,
          "metadata": {},
          "output_type": "execute_result"
        }
      ],
      "source": [
        "x_array.shape"
      ]
    },
    {
      "cell_type": "markdown",
      "metadata": {
        "id": "QWuu4FR8GwjK"
      },
      "source": [
        "To perform matrix multiplication in the next steps, you actually need your column vectors to be represented as a matrix with one column. In numpy, this matrix is represented as a 2-dimensional array.\n",
        "\n",
        "The easiest way to convert a 1D vector to a 2D column matrix is to set its `.shape` property to the number of rows and one column, as shown in the next cell."
      ]
    },
    {
      "cell_type": "code",
      "execution_count": null,
      "metadata": {
        "id": "X0_ImqSCGwjL",
        "outputId": "b14df8cd-74e5-412a-9e79-7498986bedde"
      },
      "outputs": [
        {
          "data": {
            "text/plain": [
              "array([[0.],\n",
              "       [0.],\n",
              "       [0.],\n",
              "       [0.],\n",
              "       [0.]])"
            ]
          },
          "execution_count": 55,
          "metadata": {},
          "output_type": "execute_result"
        }
      ],
      "source": [
        "x_column_vector = x_array.copy()\n",
        "x_column_vector.shape = (V, 1)  # alternatively ... = (x_array.shape[0], 1)\n",
        "x_column_vector"
      ]
    },
    {
      "cell_type": "markdown",
      "metadata": {
        "id": "W72v2QaBGwjL"
      },
      "source": [
        "The shape of the resulting \"vector\" is:"
      ]
    },
    {
      "cell_type": "code",
      "execution_count": null,
      "metadata": {
        "id": "WHqp5KNTGwjM",
        "outputId": "86b800f0-7fa0-4bd9-9a31-fc177edf3274"
      },
      "outputs": [
        {
          "data": {
            "text/plain": [
              "(5, 1)"
            ]
          },
          "execution_count": 56,
          "metadata": {},
          "output_type": "execute_result"
        }
      ],
      "source": [
        "x_column_vector.shape"
      ]
    },
    {
      "cell_type": "markdown",
      "metadata": {
        "id": "k41M-EqSGwjM"
      },
      "source": [
        "So you now have a 5x1 matrix that you can use to perform standard matrix multiplication."
      ]
    },
    {
      "cell_type": "markdown",
      "metadata": {
        "id": "OjlEFvD2GwjN"
      },
      "source": [
        "## Forward propagation"
      ]
    },
    {
      "cell_type": "markdown",
      "metadata": {
        "id": "Fvrv2vRQGwjN"
      },
      "source": [
        "Let's dive into the neural network itself, which is shown below with all the dimensions and formulas you'll need.\n",
        "\n",
        "<div style=\"width:image width px; font-size:100%; text-align:center;\"><img src='./images/cbow_model_dimensions_single_input.png?2' alt=\"alternate text\" width=\"width\" height=\"height\" style=\"width:839;height:349;\" /> Figure 2 </div>"
      ]
    },
    {
      "cell_type": "markdown",
      "metadata": {
        "id": "64b2ElDPGwjN"
      },
      "source": [
        "Set $N$ equal to 3. Remember that $N$ is a hyperparameter of the CBOW model that represents the size of the word embedding vectors, as well as the size of the hidden layer."
      ]
    },
    {
      "cell_type": "code",
      "execution_count": null,
      "metadata": {
        "id": "3lMGfUjUGwjO"
      },
      "outputs": [],
      "source": [
        "N = 3"
      ]
    },
    {
      "cell_type": "markdown",
      "metadata": {
        "id": "HJUCvZZvGwjO"
      },
      "source": [
        "### Initialization of the weights and biases"
      ]
    },
    {
      "cell_type": "markdown",
      "metadata": {
        "id": "SeEUURfiGwjP"
      },
      "source": [
        "Before you start training the neural network, you need to initialize the weight matrices and bias vectors with random values.\n",
        "\n",
        "In the assignment you will implement a function to do this yourself using `numpy.random.rand`. In this notebook, we've pre-populated these matrices and vectors for you."
      ]
    },
    {
      "cell_type": "code",
      "execution_count": null,
      "metadata": {
        "id": "dKp47Cj1GwjP"
      },
      "outputs": [],
      "source": [
        "W1 = np.array([[ 0.41687358,  0.08854191, -0.23495225,  0.28320538,  0.41800106],\n",
        "               [ 0.32735501,  0.22795148, -0.23951958,  0.4117634 , -0.23924344],\n",
        "               [ 0.26637602, -0.23846886, -0.37770863, -0.11399446,  0.34008124]])\n",
        "\n",
        "W2 = np.array([[-0.22182064, -0.43008631,  0.13310965],\n",
        "               [ 0.08476603,  0.08123194,  0.1772054 ],\n",
        "               [ 0.1871551 , -0.06107263, -0.1790735 ],\n",
        "               [ 0.07055222, -0.02015138,  0.36107434],\n",
        "               [ 0.33480474, -0.39423389, -0.43959196]])\n",
        "\n",
        "b1 = np.array([[ 0.09688219],\n",
        "               [ 0.29239497],\n",
        "               [-0.27364426]])\n",
        "\n",
        "b2 = np.array([[ 0.0352008 ],\n",
        "               [-0.36393384],\n",
        "               [-0.12775555],\n",
        "               [-0.34802326],\n",
        "               [-0.07017815]])"
      ]
    },
    {
      "cell_type": "markdown",
      "metadata": {
        "id": "_E8GlGAWGwjQ"
      },
      "source": [
        "**Check that the dimensions of these matrices match those shown in the figure above.**"
      ]
    },
    {
      "cell_type": "code",
      "execution_count": null,
      "metadata": {
        "id": "OqgEcowOGwjQ",
        "outputId": "ac9a6895-c5bc-418d-a0e2-3082c0093042"
      },
      "outputs": [
        {
          "name": "stdout",
          "output_type": "stream",
          "text": [
            "V (vocabulary size): 5\n",
            "N (embedding size / size of the hidden layer): 3\n",
            "size of W1: (3, 5) (NxV)\n",
            "size of b1: (3, 1) (Nx1)\n",
            "size of W2: (5, 3) (VxN)\n",
            "size of b2: (5, 1) (Vx1)\n"
          ]
        }
      ],
      "source": [
        "# BEGIN your code here\n",
        "print(f'V (vocabulary size): {V}')\n",
        "print(f'N (embedding size / size of the hidden layer): {N}')\n",
        "print(f'size of W1: {W1.shape} (NxV)')\n",
        "print(f'size of b1: {b1.shape} (Nx1)')\n",
        "print(f'size of W2: {W2.shape} (VxN)')\n",
        "print(f'size of b2: {b2.shape} (Vx1)')\n",
        "# END your code here"
      ]
    },
    {
      "cell_type": "markdown",
      "metadata": {
        "id": "gE5H0kI4GwjR"
      },
      "source": [
        "### Training example"
      ]
    },
    {
      "cell_type": "markdown",
      "metadata": {
        "id": "xSWbH28dGwjS"
      },
      "source": [
        "Run the next cells to get the first training example, made of the vector representing the context words \"i am because i\", and the target which is the one-hot vector representing the center word \"happy\".\n",
        "\n",
        "> You don't need to worry about the Python syntax, but there are some explanations below if you want to know what's happening behind the scenes."
      ]
    },
    {
      "cell_type": "code",
      "execution_count": null,
      "metadata": {
        "id": "JsahrHPDGwjS"
      },
      "outputs": [],
      "source": [
        "training_examples = get_training_example(words, 2, word2Ind, V)"
      ]
    },
    {
      "cell_type": "markdown",
      "metadata": {
        "id": "IKSBrI0JGwjT"
      },
      "source": [
        "> `get_training_examples`, which uses the `yield` keyword, is known as a generator. When run, it builds an iterator, which is a special type of object that... you can iterate on (using a `for` loop for instance), to retrieve the successive values that the function generates.\n",
        ">\n",
        "> In this case `get_training_examples` `yield`s training examples, and iterating on `training_examples` will return the successive training examples."
      ]
    },
    {
      "cell_type": "code",
      "execution_count": null,
      "metadata": {
        "id": "ytHdQFTrGwjT"
      },
      "outputs": [],
      "source": [
        "x_array, y_array = next(training_examples)"
      ]
    },
    {
      "cell_type": "markdown",
      "metadata": {
        "id": "PMs_IUsKGwjU"
      },
      "source": [
        "> `next` is another special keyword, which gets the next available value from an iterator. Here, you'll get the very first value, which is the first training example. If you run this cell again, you'll get the next value, and so on until the iterator runs out of values to return.\n",
        ">\n",
        "> In this notebook `next` is used because you will only be performing one iteration of training. In this week's assignment with the full training over several iterations you'll use regular `for` loops with the iterator that supplies the training examples."
      ]
    },
    {
      "cell_type": "markdown",
      "metadata": {
        "id": "C2K3zH6oGwjU"
      },
      "source": [
        "The vector representing the context words, which will be fed into the neural network, is:"
      ]
    },
    {
      "cell_type": "code",
      "execution_count": null,
      "metadata": {
        "id": "vdH1vAVgGwjV",
        "outputId": "34944d29-78e0-4215-b194-ef421dde54d6"
      },
      "outputs": [
        {
          "data": {
            "text/plain": [
              "array([0.25, 0.25, 0.  , 0.5 , 0.  ])"
            ]
          },
          "execution_count": 62,
          "metadata": {},
          "output_type": "execute_result"
        }
      ],
      "source": [
        "x_array"
      ]
    },
    {
      "cell_type": "markdown",
      "metadata": {
        "id": "KpIfXcKvGwjV"
      },
      "source": [
        "The one-hot vector representing the center word to be predicted is:"
      ]
    },
    {
      "cell_type": "code",
      "execution_count": null,
      "metadata": {
        "id": "8UfyLK6mGwjV",
        "outputId": "8604736b-04ea-4747-aacb-bf076cad33a9"
      },
      "outputs": [
        {
          "data": {
            "text/plain": [
              "array([0., 0., 1., 0., 0.])"
            ]
          },
          "execution_count": 63,
          "metadata": {},
          "output_type": "execute_result"
        }
      ],
      "source": [
        "y_array"
      ]
    },
    {
      "cell_type": "markdown",
      "metadata": {
        "id": "QEVJxJbbGwjW"
      },
      "source": [
        "Now convert these vectors into matrices (or 2D arrays) to be able to perform matrix multiplication on the right types of objects, as explained above."
      ]
    },
    {
      "cell_type": "code",
      "execution_count": null,
      "metadata": {
        "id": "flpVTAbOGwjW",
        "outputId": "872c177c-0ff3-40d0-fe3d-c8c7a0320f6e"
      },
      "outputs": [
        {
          "name": "stdout",
          "output_type": "stream",
          "text": [
            "x\n",
            "[[0.25]\n",
            " [0.25]\n",
            " [0.  ]\n",
            " [0.5 ]\n",
            " [0.  ]]\n",
            "\n",
            "y\n",
            "[[0.]\n",
            " [0.]\n",
            " [1.]\n",
            " [0.]\n",
            " [0.]]\n"
          ]
        }
      ],
      "source": [
        "x = x_array.copy()\n",
        "x.shape = (V, 1)\n",
        "print('x')\n",
        "print(x)\n",
        "print()\n",
        "\n",
        "y = y_array.copy()\n",
        "y.shape = (V, 1)\n",
        "print('y')\n",
        "print(y)"
      ]
    },
    {
      "cell_type": "markdown",
      "metadata": {
        "id": "j1-kIA9ZGwjW"
      },
      "source": [
        "### Values of the hidden layer\n",
        "\n",
        "Now that you have initialized all the variables that you need for forward propagation, you can calculate the values of the hidden layer using the following formulas:\n",
        "\n",
        "\\begin{align}\n",
        " \\mathbf{z_1} = \\mathbf{W_1}\\mathbf{x} + \\mathbf{b_1}  \\tag{1} \\\\\n",
        " \\mathbf{h} = \\mathrm{ReLU}(\\mathbf{z_1})  \\tag{2} \\\\\n",
        "\\end{align}\n",
        "\n",
        "First, you can calculate the value of $\\mathbf{z_1}$."
      ]
    },
    {
      "cell_type": "code",
      "execution_count": null,
      "metadata": {
        "id": "QA8tZrwRGwjX"
      },
      "outputs": [],
      "source": [
        "z1 = np.dot(W1, x) + b1"
      ]
    },
    {
      "cell_type": "markdown",
      "metadata": {
        "id": "YdXLvSJ3GwjX"
      },
      "source": [
        "> `np.dot` is numpy's function for matrix multiplication.\n",
        "\n",
        "As expected you get an $N$ by 1 matrix, or column vector with $N$ elements, where $N$ is equal to the embedding size, which is 3 in this example."
      ]
    },
    {
      "cell_type": "code",
      "execution_count": null,
      "metadata": {
        "id": "jPMyeJ42GwjX",
        "outputId": "e7efca64-b55d-4f84-bd4d-a3a4cf34ce7a"
      },
      "outputs": [
        {
          "data": {
            "text/plain": [
              "array([[ 0.36483875],\n",
              "       [ 0.63710329],\n",
              "       [-0.3236647 ]])"
            ]
          },
          "execution_count": 66,
          "metadata": {},
          "output_type": "execute_result"
        }
      ],
      "source": [
        "z1"
      ]
    },
    {
      "cell_type": "markdown",
      "metadata": {
        "id": "mwx8N6-SGwjX"
      },
      "source": [
        "You can now take the ReLU of $\\mathbf{z_1}$ to get $\\mathbf{h}$, the vector with the values of the hidden layer."
      ]
    },
    {
      "cell_type": "code",
      "execution_count": null,
      "metadata": {
        "id": "XGXAIkAcGwjY",
        "outputId": "bb3e15f2-89af-4ce2-e8c8-8468cba0b839"
      },
      "outputs": [
        {
          "data": {
            "text/plain": [
              "array([[0.36483875],\n",
              "       [0.63710329],\n",
              "       [0.        ]])"
            ]
          },
          "execution_count": 67,
          "metadata": {},
          "output_type": "execute_result"
        }
      ],
      "source": [
        "h = relu(z1)\n",
        "h"
      ]
    },
    {
      "cell_type": "markdown",
      "metadata": {
        "id": "CBgEq1-5GwjY"
      },
      "source": [
        "Applying ReLU means that the negative element of $\\mathbf{z_1}$ has been replaced with a zero."
      ]
    },
    {
      "cell_type": "markdown",
      "metadata": {
        "id": "duI8jBnNGwjY"
      },
      "source": [
        "### Values of the output layer\n",
        "\n",
        "Here are the formulas you need to calculate the values of the output layer, represented by the vector $\\mathbf{\\hat y}$:\n",
        "\n",
        "\\begin{align}\n",
        " \\mathbf{z_2} &= \\mathbf{W_2}\\mathbf{h} + \\mathbf{b_2}   \\tag{3} \\\\\n",
        " \\mathbf{\\hat y} &= \\mathrm{softmax}(\\mathbf{z_2})   \\tag{4} \\\\\n",
        "\\end{align}\n",
        "\n",
        "**First, calculate $\\mathbf{z_2}$.**"
      ]
    },
    {
      "cell_type": "code",
      "execution_count": null,
      "metadata": {
        "id": "M8ToaYAMGwjZ",
        "outputId": "cd3b3ce1-0377-404c-b772-eff174929bdc"
      },
      "outputs": [
        {
          "data": {
            "text/plain": [
              "array([[-0.31973737],\n",
              "       [-0.28125477],\n",
              "       [-0.09838369],\n",
              "       [-0.33512159],\n",
              "       [-0.19919612]])"
            ]
          },
          "execution_count": 68,
          "metadata": {},
          "output_type": "execute_result"
        }
      ],
      "source": [
        "# BEGIN your code here\n",
        "z2 = np.dot(W2, h) + b2\n",
        "# END your code here\n",
        "\n",
        "z2"
      ]
    },
    {
      "cell_type": "markdown",
      "metadata": {
        "id": "_jG-YswJGwjZ"
      },
      "source": [
        "Expected output:\n",
        "\n",
        "    array([[-0.31973737],\n",
        "           [-0.28125477],\n",
        "           [-0.09838369],\n",
        "           [-0.33512159],\n",
        "           [-0.19919612]])"
      ]
    },
    {
      "cell_type": "markdown",
      "metadata": {
        "id": "AKDbCUvDGwja"
      },
      "source": [
        "This is a $V$ by 1 matrix, where $V$ is the size of the vocabulary, which is 5 in this example."
      ]
    },
    {
      "cell_type": "markdown",
      "metadata": {
        "id": "ST0Ez0QjGwja"
      },
      "source": [
        "**Now calculate the value of $\\mathbf{\\hat y}$.**"
      ]
    },
    {
      "cell_type": "code",
      "execution_count": null,
      "metadata": {
        "id": "GhZwBWweGwja",
        "outputId": "867234f2-01f0-4d85-c91d-74d6f6a42be0"
      },
      "outputs": [
        {
          "data": {
            "text/plain": [
              "array([[0.18519074],\n",
              "       [0.19245626],\n",
              "       [0.23107446],\n",
              "       [0.18236353],\n",
              "       [0.20891502]])"
            ]
          },
          "execution_count": 69,
          "metadata": {},
          "output_type": "execute_result"
        }
      ],
      "source": [
        "# BEGIN your code here\n",
        "y_hat = softmax(z2)\n",
        "# END your code here\n",
        "\n",
        "y_hat"
      ]
    },
    {
      "cell_type": "markdown",
      "metadata": {
        "id": "npcga2WlGwjb"
      },
      "source": [
        "Expected output:\n",
        "\n",
        "    array([[0.18519074],\n",
        "           [0.19245626],\n",
        "           [0.23107446],\n",
        "           [0.18236353],\n",
        "           [0.20891502]])"
      ]
    },
    {
      "cell_type": "markdown",
      "metadata": {
        "id": "PQ8jcvr2Gwjb"
      },
      "source": [
        "As you've performed the calculations with random matrices and vectors (apart from the input vector), the output of the neural network is essentially random at this point. The learning process will adjust the weights and biases to match the actual targets better.\n",
        "\n",
        "**That being said, what word did the neural network predict?**"
      ]
    },
    {
      "cell_type": "markdown",
      "metadata": {
        "id": "zl2cp9FpGwjc"
      },
      "source": [
        "<details>    \n",
        "<summary>\n",
        "    <font size=\"3\" color=\"darkgreen\"><b>Solution</b></font>\n",
        "</summary>\n",
        "<p>The neural network predicted the word \"happy\": the largest element of $\\mathbf{\\hat y}$ is the third one, and the third word of the vocabulary is \"happy\".</p>\n",
        "<p>Here's how you could implement this in Python:</p>\n",
        "<p><code>print(Ind2word[np.argmax(y_hat)])</code></p>"
      ]
    },
    {
      "cell_type": "markdown",
      "metadata": {
        "id": "vBJetZXVGwjc"
      },
      "source": [
        "Well done, you've completed the forward propagation phase!\n",
        "\n",
        "## Cross-entropy loss\n",
        "\n",
        "Now that you have the network's prediction, you can calculate the cross-entropy loss to determine how accurate the prediction was compared to the actual target.\n",
        "\n",
        "> Remember that you are working on a single training example, not on a batch of examples, which is why you are using *loss* and not *cost*, which is the generalized form of loss.\n",
        "\n",
        "First let's recall what the prediction was."
      ]
    },
    {
      "cell_type": "code",
      "execution_count": null,
      "metadata": {
        "id": "NUOhWx1YGwjd",
        "outputId": "82a1304d-c140-4dea-ac5b-aaeec048d87e"
      },
      "outputs": [
        {
          "data": {
            "text/plain": [
              "array([[0.18519074],\n",
              "       [0.19245626],\n",
              "       [0.23107446],\n",
              "       [0.18236353],\n",
              "       [0.20891502]])"
            ]
          },
          "execution_count": 70,
          "metadata": {},
          "output_type": "execute_result"
        }
      ],
      "source": [
        "y_hat"
      ]
    },
    {
      "cell_type": "markdown",
      "metadata": {
        "id": "dKvNiKVQGwjd"
      },
      "source": [
        "And the actual target value is:"
      ]
    },
    {
      "cell_type": "code",
      "execution_count": null,
      "metadata": {
        "id": "j2FEMYs5Gwjd",
        "outputId": "fecebe05-867a-4048-b5b4-85c08f42697b"
      },
      "outputs": [
        {
          "data": {
            "text/plain": [
              "array([[0.],\n",
              "       [0.],\n",
              "       [1.],\n",
              "       [0.],\n",
              "       [0.]])"
            ]
          },
          "execution_count": 71,
          "metadata": {},
          "output_type": "execute_result"
        }
      ],
      "source": [
        "y"
      ]
    },
    {
      "cell_type": "markdown",
      "metadata": {
        "id": "PPN6dpJRGwjd"
      },
      "source": [
        "The formula for cross-entropy loss is:\n",
        "\n",
        "$$ J=-\\sum\\limits_{k=1}^{V}y_k\\log{\\hat{y}_k} \\tag{6}$$\n",
        "\n",
        "**Implement the cross-entropy loss function.**\n",
        "\n",
        "Here are a some hints if you're stuck."
      ]
    },
    {
      "cell_type": "markdown",
      "metadata": {
        "id": "RCpAaaiYGwje"
      },
      "source": [
        "<details>    \n",
        "<summary>\n",
        "    <font size=\"3\" color=\"darkgreen\"><b>Hint 1</b></font>\n",
        "</summary>\n",
        "    <p>To multiply two numpy matrices (such as <code>y</code> and <code>y_hat</code>) element-wise, you can simply use the <code>*</code> operator.</p>"
      ]
    },
    {
      "cell_type": "markdown",
      "metadata": {
        "id": "oxgi0GGBGwje"
      },
      "source": [
        "<details>    \n",
        "<summary>\n",
        "    <font size=\"3\" color=\"darkgreen\"><b>Hint 2</b></font>\n",
        "</summary>\n",
        "<p>Once you have a vector equal to the element-wise multiplication of <code>y</code> and <code>y_hat</code>, you can use <code>np.sum</code> to calculate the sum of the elements of this vector.</p>"
      ]
    },
    {
      "cell_type": "code",
      "execution_count": null,
      "metadata": {
        "id": "bdR2FCNDGwje"
      },
      "outputs": [],
      "source": [
        "def cross_entropy_loss(y_predicted, y_actual):\n",
        "    # BEGIN your code here\n",
        "    loss = np.sum(-np.log(y_predicted)*y_actual)\n",
        "    # END your code here\n",
        "    return loss"
      ]
    },
    {
      "cell_type": "markdown",
      "metadata": {
        "id": "Exnz52QEGwjf"
      },
      "source": [
        "**Now use this function to calculate the loss with the actual values of $\\mathbf{y}$ and $\\mathbf{\\hat y}$.**"
      ]
    },
    {
      "cell_type": "code",
      "execution_count": null,
      "metadata": {
        "id": "wierBcUgGwjf",
        "outputId": "1cd28abf-e161-45df-d099-b82d56f82846"
      },
      "outputs": [
        {
          "data": {
            "text/plain": [
              "1.4650152923611106"
            ]
          },
          "execution_count": 73,
          "metadata": {},
          "output_type": "execute_result"
        }
      ],
      "source": [
        "cross_entropy_loss(y_hat, y)"
      ]
    },
    {
      "cell_type": "markdown",
      "metadata": {
        "id": "vhUlWrM8Gwjf"
      },
      "source": [
        "Expected output:\n",
        "\n",
        "    1.4650152923611106"
      ]
    },
    {
      "cell_type": "markdown",
      "metadata": {
        "id": "MY4VVGjKGwjg"
      },
      "source": [
        "This value is neither good nor bad, which is expected as the neural network hasn't learned anything yet.\n",
        "\n",
        "The actual learning will start during the next phase: backpropagation.\n",
        "\n",
        "## Backpropagation\n",
        "\n",
        "The formulas that you will implement for backpropagation are the following.\n",
        "\n",
        "\\begin{align}\n",
        " \\frac{\\partial J}{\\partial \\mathbf{W_1}} &= \\rm{ReLU}\\left ( \\mathbf{W_2^\\top} (\\mathbf{\\hat{y}} - \\mathbf{y})\\right )\\mathbf{x}^\\top \\tag{7}\\\\\n",
        " \\frac{\\partial J}{\\partial \\mathbf{W_2}} &= (\\mathbf{\\hat{y}} - \\mathbf{y})\\mathbf{h^\\top} \\tag{8}\\\\\n",
        " \\frac{\\partial J}{\\partial \\mathbf{b_1}} &= \\rm{ReLU}\\left ( \\mathbf{W_2^\\top} (\\mathbf{\\hat{y}} - \\mathbf{y})\\right ) \\tag{9}\\\\\n",
        " \\frac{\\partial J}{\\partial \\mathbf{b_2}} &= \\mathbf{\\hat{y}} - \\mathbf{y} \\tag{10}\n",
        "\\end{align}\n",
        "\n",
        "> Note: these formulas are slightly simplified compared to the ones in the lecture as you're working on a single training example, whereas the lecture provided the formulas for a batch of examples. In the assignment you'll be implementing the latter.\n",
        "\n",
        "Let's start with an easy one.\n",
        "\n",
        "**Calculate the partial derivative of the loss function with respect to $\\mathbf{b_2}$, and store the result in `grad_b2`.**\n",
        "\n",
        "$$\\frac{\\partial J}{\\partial \\mathbf{b_2}} = \\mathbf{\\hat{y}} - \\mathbf{y} \\tag{10}$$"
      ]
    },
    {
      "cell_type": "code",
      "execution_count": null,
      "metadata": {
        "id": "UB0D4ODYGwjh",
        "outputId": "f261c82c-a4ad-40d2-c411-985b232387ee"
      },
      "outputs": [
        {
          "data": {
            "text/plain": [
              "array([[ 0.18519074],\n",
              "       [ 0.19245626],\n",
              "       [-0.76892554],\n",
              "       [ 0.18236353],\n",
              "       [ 0.20891502]])"
            ]
          },
          "execution_count": 74,
          "metadata": {},
          "output_type": "execute_result"
        }
      ],
      "source": [
        "# BEGIN your code here\n",
        "grad_b2 = y_hat - y\n",
        "# END your code here\n",
        "\n",
        "grad_b2"
      ]
    },
    {
      "cell_type": "markdown",
      "metadata": {
        "id": "ldsWyHcnGwjh"
      },
      "source": [
        "Expected output:\n",
        "\n",
        "    array([[ 0.18519074],\n",
        "           [ 0.19245626],\n",
        "           [-0.76892554],\n",
        "           [ 0.18236353],\n",
        "           [ 0.20891502]])"
      ]
    },
    {
      "cell_type": "markdown",
      "metadata": {
        "id": "hRLi6v5XGwji"
      },
      "source": [
        "**Next, calculate the partial derivative of the loss function with respect to $\\mathbf{W_2}$, and store the result in `grad_W2`.**\n",
        "\n",
        "$$\\frac{\\partial J}{\\partial \\mathbf{W_2}} = (\\mathbf{\\hat{y}} - \\mathbf{y})\\mathbf{h^\\top} \\tag{8}$$\n",
        "\n",
        "> Hint: use `.T` to get a transposed matrix, e.g. `h.T` returns $\\mathbf{h^\\top}$."
      ]
    },
    {
      "cell_type": "code",
      "execution_count": null,
      "metadata": {
        "id": "jp894FHhGwji",
        "outputId": "0a416877-8169-4689-d744-b917e5daf628"
      },
      "outputs": [
        {
          "data": {
            "text/plain": [
              "array([[ 0.06756476,  0.11798563,  0.        ],\n",
              "       [ 0.0702155 ,  0.12261452,  0.        ],\n",
              "       [-0.28053384, -0.48988499,  0.        ],\n",
              "       [ 0.06653328,  0.1161844 ,  0.        ],\n",
              "       [ 0.07622029,  0.13310045,  0.        ]])"
            ]
          },
          "execution_count": 75,
          "metadata": {},
          "output_type": "execute_result"
        }
      ],
      "source": [
        "# BEGIN your code here\n",
        "grad_W2 = np.dot(y_hat - y, h.T)\n",
        "# END your code here\n",
        "\n",
        "grad_W2"
      ]
    },
    {
      "cell_type": "markdown",
      "metadata": {
        "id": "sAlPyY46Gwjo"
      },
      "source": [
        "Expected output:\n",
        "\n",
        "    array([[ 0.06756476,  0.11798563,  0.        ],\n",
        "           [ 0.0702155 ,  0.12261452,  0.        ],\n",
        "           [-0.28053384, -0.48988499,  0.        ],\n",
        "           [ 0.06653328,  0.1161844 ,  0.        ],\n",
        "           [ 0.07622029,  0.13310045,  0.        ]])"
      ]
    },
    {
      "cell_type": "markdown",
      "metadata": {
        "id": "2iI7JxHHGwjo"
      },
      "source": [
        "**Now calculate the partial derivative with respect to $\\mathbf{b_1}$ and store the result in `grad_b1`.**\n",
        "\n",
        "$$\\frac{\\partial J}{\\partial \\mathbf{b_1}} = \\rm{ReLU}\\left ( \\mathbf{W_2^\\top} (\\mathbf{\\hat{y}} - \\mathbf{y})\\right ) \\tag{9}$$"
      ]
    },
    {
      "cell_type": "code",
      "execution_count": null,
      "metadata": {
        "id": "dBfBksgXGwjo",
        "outputId": "a2155084-5700-4513-82fa-78dae9aef108"
      },
      "outputs": [
        {
          "data": {
            "text/plain": [
              "array([[0.        ],\n",
              "       [0.        ],\n",
              "       [0.17045858]])"
            ]
          },
          "execution_count": 76,
          "metadata": {},
          "output_type": "execute_result"
        }
      ],
      "source": [
        "# BEGIN your code here\n",
        "grad_b1 = relu(np.dot(W2.T, y_hat - y))\n",
        "# END your code here\n",
        "\n",
        "grad_b1"
      ]
    },
    {
      "cell_type": "markdown",
      "metadata": {
        "id": "eUdwSrk6Gwjp"
      },
      "source": [
        "Expected output:\n",
        "\n",
        "    array([[0.        ],\n",
        "           [0.        ],\n",
        "           [0.17045858]])"
      ]
    },
    {
      "cell_type": "markdown",
      "metadata": {
        "id": "XeHltilZGwjp"
      },
      "source": [
        "**Finally, calculate the partial derivative of the loss with respect to $\\mathbf{W_1}$, and store it in `grad_W1`.**\n",
        "\n",
        "$$\\frac{\\partial J}{\\partial \\mathbf{W_1}} = \\rm{ReLU}\\left ( \\mathbf{W_2^\\top} (\\mathbf{\\hat{y}} - \\mathbf{y})\\right )\\mathbf{x}^\\top \\tag{7}$$"
      ]
    },
    {
      "cell_type": "code",
      "execution_count": null,
      "metadata": {
        "id": "N_c8Mf_DGwjp",
        "outputId": "5f46e4f2-8a8b-4a6a-b24c-da6d1242cfac"
      },
      "outputs": [
        {
          "data": {
            "text/plain": [
              "array([[0.        , 0.        , 0.        , 0.        , 0.        ],\n",
              "       [0.        , 0.        , 0.        , 0.        , 0.        ],\n",
              "       [0.04261464, 0.04261464, 0.        , 0.08522929, 0.        ]])"
            ]
          },
          "execution_count": 77,
          "metadata": {},
          "output_type": "execute_result"
        }
      ],
      "source": [
        "# BEGIN your code here\n",
        "grad_W1 = np.dot(relu(np.dot(W2.T, y_hat - y)), x.T)\n",
        "# END your code here\n",
        "\n",
        "grad_W1"
      ]
    },
    {
      "cell_type": "markdown",
      "metadata": {
        "id": "3QKAMNBWGwjq"
      },
      "source": [
        "Expected output:\n",
        "\n",
        "    array([[0.        , 0.        , 0.        , 0.        , 0.        ],\n",
        "           [0.        , 0.        , 0.        , 0.        , 0.        ],\n",
        "           [0.04261464, 0.04261464, 0.        , 0.08522929, 0.        ]])"
      ]
    },
    {
      "cell_type": "markdown",
      "metadata": {
        "id": "rZ8JJa8VGwjq"
      },
      "source": [
        "Before moving on to gradient descent, double-check that all the matrices have the expected dimensions."
      ]
    },
    {
      "cell_type": "code",
      "execution_count": null,
      "metadata": {
        "id": "QY8851QGGwjq",
        "outputId": "29acaef6-3de7-41ab-e648-aa0b503773a0"
      },
      "outputs": [
        {
          "name": "stdout",
          "output_type": "stream",
          "text": [
            "V (vocabulary size): 5\n",
            "N (embedding size / size of the hidden layer): 3\n",
            "size of grad_W1: (3, 5) (NxV)\n",
            "size of grad_b1: (3, 1) (Nx1)\n",
            "size of grad_W2: (5, 3) (VxN)\n",
            "size of grad_b2: (5, 1) (Vx1)\n"
          ]
        }
      ],
      "source": [
        "# BEGIN your code here\n",
        "print(f'V (vocabulary size): {V}')\n",
        "print(f'N (embedding size / size of the hidden layer): {N}')\n",
        "print(f'size of grad_W1: {grad_W1.shape} (NxV)')\n",
        "print(f'size of grad_b1: {grad_b1.shape} (Nx1)')\n",
        "print(f'size of grad_W2: {grad_W2.shape} (VxN)')\n",
        "print(f'size of grad_b2: {grad_b2.shape} (Vx1)')\n",
        "# END your code here"
      ]
    },
    {
      "cell_type": "markdown",
      "metadata": {
        "id": "MeM7jQgGGwjq"
      },
      "source": [
        "## Gradient descent\n",
        "\n",
        "During the gradient descent phase, you will update the weights and biases by subtracting $\\alpha$ times the gradient from the original matrices and vectors, using the following formulas.\n",
        "\n",
        "\\begin{align}\n",
        " \\mathbf{W_1} &:= \\mathbf{W_1} - \\alpha \\frac{\\partial J}{\\partial \\mathbf{W_1}} \\tag{11}\\\\\n",
        " \\mathbf{W_2} &:= \\mathbf{W_2} - \\alpha \\frac{\\partial J}{\\partial \\mathbf{W_2}} \\tag{12}\\\\\n",
        " \\mathbf{b_1} &:= \\mathbf{b_1} - \\alpha \\frac{\\partial J}{\\partial \\mathbf{b_1}} \\tag{13}\\\\\n",
        " \\mathbf{b_2} &:= \\mathbf{b_2} - \\alpha \\frac{\\partial J}{\\partial \\mathbf{b_2}} \\tag{14}\\\\\n",
        "\\end{align}\n",
        "\n",
        "First, let set a value for $\\alpha$."
      ]
    },
    {
      "cell_type": "code",
      "execution_count": null,
      "metadata": {
        "id": "UTayDEdpGwjr"
      },
      "outputs": [],
      "source": [
        "alpha = 0.03"
      ]
    },
    {
      "cell_type": "markdown",
      "metadata": {
        "id": "2sCvCTDtGwjr"
      },
      "source": [
        "The updated weight matrix $\\mathbf{W_1}$ will be:"
      ]
    },
    {
      "cell_type": "code",
      "execution_count": null,
      "metadata": {
        "id": "3kORNg9lGwjr"
      },
      "outputs": [],
      "source": [
        "W1_new = W1 - alpha * grad_W1"
      ]
    },
    {
      "cell_type": "markdown",
      "metadata": {
        "id": "sz7YZuFHGwjr"
      },
      "source": [
        "Let's compare the previous and new values of $\\mathbf{W_1}$:"
      ]
    },
    {
      "cell_type": "code",
      "execution_count": null,
      "metadata": {
        "id": "dykbh42uGwjs",
        "outputId": "af040393-8c28-4f59-8304-20bbc73daded"
      },
      "outputs": [
        {
          "name": "stdout",
          "output_type": "stream",
          "text": [
            "old value of W1:\n",
            "[[ 0.41687358  0.08854191 -0.23495225  0.28320538  0.41800106]\n",
            " [ 0.32735501  0.22795148 -0.23951958  0.4117634  -0.23924344]\n",
            " [ 0.26637602 -0.23846886 -0.37770863 -0.11399446  0.34008124]]\n",
            "\n",
            "new value of W1:\n",
            "[[ 0.41687358  0.08854191 -0.23495225  0.28320538  0.41800106]\n",
            " [ 0.32735501  0.22795148 -0.23951958  0.4117634  -0.23924344]\n",
            " [ 0.26509758 -0.2397473  -0.37770863 -0.11655134  0.34008124]]\n"
          ]
        }
      ],
      "source": [
        "print('old value of W1:')\n",
        "print(W1)\n",
        "print()\n",
        "print('new value of W1:')\n",
        "print(W1_new)"
      ]
    },
    {
      "cell_type": "markdown",
      "metadata": {
        "id": "0FDc9SgGGwjs"
      },
      "source": [
        "The difference is very subtle (hint: take a closer look at the last row), which is why it takes a fair amount of iterations to train the neural network until it reaches optimal weights and biases starting from random values.\n",
        "\n",
        "**Now calculate the new values of $\\mathbf{W_2}$ (to be stored in `W2_new`), $\\mathbf{b_1}$ (in `b1_new`), and $\\mathbf{b_2}$ (in `b2_new`).**\n",
        "\n",
        "\\begin{align}\n",
        " \\mathbf{W_2} &:= \\mathbf{W_2} - \\alpha \\frac{\\partial J}{\\partial \\mathbf{W_2}} \\tag{12}\\\\\n",
        " \\mathbf{b_1} &:= \\mathbf{b_1} - \\alpha \\frac{\\partial J}{\\partial \\mathbf{b_1}} \\tag{13}\\\\\n",
        " \\mathbf{b_2} &:= \\mathbf{b_2} - \\alpha \\frac{\\partial J}{\\partial \\mathbf{b_2}} \\tag{14}\\\\\n",
        "\\end{align}"
      ]
    },
    {
      "cell_type": "code",
      "execution_count": null,
      "metadata": {
        "id": "8z2lquSlGwjs",
        "outputId": "7d5fdbe0-b200-48e5-e17f-259b53291f53"
      },
      "outputs": [
        {
          "name": "stdout",
          "output_type": "stream",
          "text": [
            "W2_new\n",
            "[[-0.22384758 -0.43362588  0.13310965]\n",
            " [ 0.08265956  0.0775535   0.1772054 ]\n",
            " [ 0.19557112 -0.04637608 -0.1790735 ]\n",
            " [ 0.06855622 -0.02363691  0.36107434]\n",
            " [ 0.33251813 -0.3982269  -0.43959196]]\n",
            "\n",
            "b1_new\n",
            "[[ 0.09688219]\n",
            " [ 0.29239497]\n",
            " [-0.27875802]]\n",
            "\n",
            "b2_new\n",
            "[[ 0.02964508]\n",
            " [-0.36970753]\n",
            " [-0.10468778]\n",
            " [-0.35349417]\n",
            " [-0.0764456 ]]\n"
          ]
        }
      ],
      "source": [
        "# BEGIN your code here\n",
        "W2_new = W2 - alpha * grad_W2\n",
        "b1_new = b1 - alpha * grad_b1\n",
        "b2_new = b2 - alpha * grad_b2\n",
        "# END your code here\n",
        "\n",
        "print('W2_new')\n",
        "print(W2_new)\n",
        "print()\n",
        "print('b1_new')\n",
        "print(b1_new)\n",
        "print()\n",
        "print('b2_new')\n",
        "print(b2_new)"
      ]
    },
    {
      "cell_type": "markdown",
      "metadata": {
        "id": "kVOv5dR_Gwjt"
      },
      "source": [
        "Expected output:\n",
        "\n",
        "    W2_new\n",
        "    [[-0.22384758 -0.43362588  0.13310965]\n",
        "     [ 0.08265956  0.0775535   0.1772054 ]\n",
        "     [ 0.19557112 -0.04637608 -0.1790735 ]\n",
        "     [ 0.06855622 -0.02363691  0.36107434]\n",
        "     [ 0.33251813 -0.3982269  -0.43959196]]\n",
        "\n",
        "    b1_new\n",
        "    [[ 0.09688219]\n",
        "     [ 0.29239497]\n",
        "     [-0.27875802]]\n",
        "\n",
        "    b2_new\n",
        "    [[ 0.02964508]\n",
        "     [-0.36970753]\n",
        "     [-0.10468778]\n",
        "     [-0.35349417]\n",
        "     [-0.0764456 ]]"
      ]
    },
    {
      "cell_type": "markdown",
      "metadata": {
        "id": "PWTOW_4mGwjt"
      },
      "source": [
        "Congratulations, you have completed one iteration of training using one training example!\n",
        "\n",
        "You'll need many more iterations to fully train the neural network, and you can optimize the learning process by training on batches of examples, as described in the lecture. You will get to do this during this week's assignment.\n",
        "\n",
        "## Extracting word embedding vectors\n",
        "\n",
        "Once you have finished training the neural network, you have three options to get word embedding vectors for the words of your vocabulary, based on the weight matrices $\\mathbf{W_1}$ and/or $\\mathbf{W_2}$.\n",
        "\n",
        "### Option 1: extract embedding vectors from $\\mathbf{W_1}$\n",
        "\n",
        "The first option is to take the columns of $\\mathbf{W_1}$ as the embedding vectors of the words of the vocabulary, using the same order of the words as for the input and output vectors.\n",
        "\n",
        "> Note: in this practice notebook the values of the word embedding vectors are meaningless after a single iteration with just one training example, but here's how you would proceed after the training process is complete.\n",
        "\n",
        "For example $\\mathbf{W_1}$ is this matrix:"
      ]
    },
    {
      "cell_type": "code",
      "execution_count": null,
      "metadata": {
        "id": "J_X10pz_Gwjt",
        "outputId": "597b6132-baf2-4038-d3c6-c722b6144383"
      },
      "outputs": [
        {
          "data": {
            "text/plain": [
              "array([[ 0.41687358,  0.08854191, -0.23495225,  0.28320538,  0.41800106],\n",
              "       [ 0.32735501,  0.22795148, -0.23951958,  0.4117634 , -0.23924344],\n",
              "       [ 0.26637602, -0.23846886, -0.37770863, -0.11399446,  0.34008124]])"
            ]
          },
          "execution_count": 83,
          "metadata": {},
          "output_type": "execute_result"
        }
      ],
      "source": [
        "W1"
      ]
    },
    {
      "cell_type": "markdown",
      "metadata": {
        "id": "H2bd84_tGwju"
      },
      "source": [
        "The first column, which is a 3-element vector, is the embedding vector of the first word of your vocabulary. The second column is the word embedding vector for the second word, and so on.\n",
        "\n",
        "The first, second, etc. words are ordered as follows."
      ]
    },
    {
      "cell_type": "code",
      "execution_count": null,
      "metadata": {
        "id": "Iu87hwO1Gwju",
        "outputId": "d18a2b5f-2d4a-491c-f189-571fd7cd9d99"
      },
      "outputs": [
        {
          "name": "stdout",
          "output_type": "stream",
          "text": [
            "am\n",
            "because\n",
            "happy\n",
            "i\n",
            "learning\n"
          ]
        }
      ],
      "source": [
        "for i in range(V):\n",
        "    print(Ind2word[i])"
      ]
    },
    {
      "cell_type": "markdown",
      "metadata": {
        "id": "Q0qqi9R3Gwjv"
      },
      "source": [
        "So the word embedding vectors corresponding to each word are:"
      ]
    },
    {
      "cell_type": "code",
      "execution_count": null,
      "metadata": {
        "id": "f5V6LEewGwjv",
        "outputId": "b44cd81a-51da-48fa-f4b4-7742b5dfb79b"
      },
      "outputs": [
        {
          "name": "stdout",
          "output_type": "stream",
          "text": [
            "am: [0.41687358 0.32735501 0.26637602]\n",
            "because: [ 0.08854191  0.22795148 -0.23846886]\n",
            "happy: [-0.23495225 -0.23951958 -0.37770863]\n",
            "i: [ 0.28320538  0.4117634  -0.11399446]\n",
            "learning: [ 0.41800106 -0.23924344  0.34008124]\n"
          ]
        }
      ],
      "source": [
        "# loop through each word of the vocabulary\n",
        "for word in word2Ind:\n",
        "    # extract the column corresponding to the index of the word in the vocabulary\n",
        "    word_embedding_vector = W1[:, word2Ind[word]]\n",
        "    \n",
        "    print(f'{word}: {word_embedding_vector}')"
      ]
    },
    {
      "cell_type": "markdown",
      "metadata": {
        "id": "4EzUIqQUGwjw"
      },
      "source": [
        "### Option 2: extract embedding vectors from $\\mathbf{W_2}$"
      ]
    },
    {
      "cell_type": "markdown",
      "metadata": {
        "id": "XrqydBUOGwjw"
      },
      "source": [
        "The second option is to take $\\mathbf{W_2}$ transposed, and take its columns as the word embedding vectors just like you did for $\\mathbf{W_1}$."
      ]
    },
    {
      "cell_type": "code",
      "execution_count": null,
      "metadata": {
        "id": "NVU0r-0ZGwjw",
        "outputId": "129dc1d2-9582-46d1-cfc9-a280b133cf6a"
      },
      "outputs": [
        {
          "data": {
            "text/plain": [
              "array([[-0.22182064,  0.08476603,  0.1871551 ,  0.07055222,  0.33480474],\n",
              "       [-0.43008631,  0.08123194, -0.06107263, -0.02015138, -0.39423389],\n",
              "       [ 0.13310965,  0.1772054 , -0.1790735 ,  0.36107434, -0.43959196]])"
            ]
          },
          "execution_count": 86,
          "metadata": {},
          "output_type": "execute_result"
        }
      ],
      "source": [
        "W2.T"
      ]
    },
    {
      "cell_type": "code",
      "execution_count": null,
      "metadata": {
        "id": "1tUOr3QZGwjw",
        "outputId": "52615b70-7845-4573-f3ee-b8cf2948492d"
      },
      "outputs": [
        {
          "name": "stdout",
          "output_type": "stream",
          "text": [
            "am: [-0.22182064 -0.43008631  0.13310965]\n",
            "because: [0.08476603 0.08123194 0.1772054 ]\n",
            "happy: [ 0.1871551  -0.06107263 -0.1790735 ]\n",
            "i: [ 0.07055222 -0.02015138  0.36107434]\n",
            "learning: [ 0.33480474 -0.39423389 -0.43959196]\n"
          ]
        }
      ],
      "source": [
        "# loop through each word of the vocabulary\n",
        "for word in word2Ind:\n",
        "    # extract the column corresponding to the index of the word in the vocabulary\n",
        "    word_embedding_vector = W2.T[:, word2Ind[word]]\n",
        "    \n",
        "    print(f'{word}: {word_embedding_vector}')"
      ]
    },
    {
      "cell_type": "markdown",
      "metadata": {
        "id": "WcP1ARnQGwjx"
      },
      "source": [
        "### Option 3: extract embedding vectors from $\\mathbf{W_1}$ and $\\mathbf{W_2}$"
      ]
    },
    {
      "cell_type": "markdown",
      "metadata": {
        "id": "jtzJrP6FGwjx"
      },
      "source": [
        "The third option, which is the one you will use in this week's assignment, uses the average of $\\mathbf{W_1}$ and $\\mathbf{W_2^\\top}$."
      ]
    },
    {
      "cell_type": "markdown",
      "metadata": {
        "id": "irrTKJLEGwjx"
      },
      "source": [
        "**Calculate the average of $\\mathbf{W_1}$ and $\\mathbf{W_2^\\top}$, and store the result in `W3`.**"
      ]
    },
    {
      "cell_type": "code",
      "execution_count": null,
      "metadata": {
        "id": "5PC62f4hGwjx",
        "outputId": "85b97243-2451-4f45-a32b-819b2c05f6b5"
      },
      "outputs": [
        {
          "data": {
            "text/plain": [
              "array([[ 0.09752647,  0.08665397, -0.02389858,  0.1768788 ,  0.3764029 ],\n",
              "       [-0.05136565,  0.15459171, -0.15029611,  0.19580601, -0.31673866],\n",
              "       [ 0.19974284, -0.03063173, -0.27839106,  0.12353994, -0.04975536]])"
            ]
          },
          "execution_count": 88,
          "metadata": {},
          "output_type": "execute_result"
        }
      ],
      "source": [
        "# BEGIN your code here\n",
        "W3 = (W1+W2.T)/2\n",
        "# END your code here\n",
        "\n",
        "W3"
      ]
    },
    {
      "cell_type": "markdown",
      "metadata": {
        "id": "F5_ylr6_Gwjy"
      },
      "source": [
        "Expected output:\n",
        "\n",
        "    array([[ 0.09752647,  0.08665397, -0.02389858,  0.1768788 ,  0.3764029 ],\n",
        "           [-0.05136565,  0.15459171, -0.15029611,  0.19580601, -0.31673866],\n",
        "           [ 0.19974284, -0.03063173, -0.27839106,  0.12353994, -0.04975536]])"
      ]
    },
    {
      "cell_type": "markdown",
      "metadata": {
        "id": "bULKPcNTGwjy"
      },
      "source": [
        "Extracting the word embedding vectors works just like the two previous options, by taking the columns of the matrix you've just created."
      ]
    },
    {
      "cell_type": "code",
      "execution_count": null,
      "metadata": {
        "id": "EOYX5Az0Gwjy"
      },
      "outputs": [],
      "source": [
        "# loop through each word of the vocabulary\n",
        "for word in word2Ind:\n",
        "    # extract the column corresponding to the index of the word in the vocabulary\n",
        "    word_embedding_vector = W3[:, word2Ind[word]]\n",
        "    \n",
        "    print(f'{word}: {word_embedding_vector}')"
      ]
    },
    {
      "cell_type": "markdown",
      "metadata": {
        "id": "BjdcPK7pGwjy"
      },
      "source": [
        "You're now ready to take on this week's assignment!"
      ]
    },
    {
      "cell_type": "markdown",
      "metadata": {
        "id": "opno4RHcGwjy"
      },
      "source": [
        "### How this practice relates to and differs from the upcoming graded assignment\n",
        "\n",
        "- In the assignment, for each iteration of training you will use batches of examples instead of a single example. The formulas for forward propagation and backpropagation will be modified accordingly, and you will use cross-entropy cost instead of cross-entropy loss.\n",
        "- You will also complete several iterations of training, until you reach an acceptably low cross-entropy cost, at which point you can extract good word embeddings from the weight matrices.\n",
        "- After extracting the word embedding vectors, you will use principal component analysis (PCA) to visualize the vectors, which will enable you to perform an intrinsic evaluation of the quality of the vectors, as explained in the lecture."
      ]
    }
  ],
  "metadata": {
    "kernelspec": {
      "display_name": "Python 3",
      "language": "python",
      "name": "python3"
    },
    "language_info": {
      "codemirror_mode": {
        "name": "ipython",
        "version": 3
      },
      "file_extension": ".py",
      "mimetype": "text/x-python",
      "name": "python",
      "nbconvert_exporter": "python",
      "pygments_lexer": "ipython3",
      "version": "3.7.6"
    },
    "colab": {
      "name": "C2_W4_lecture_nb_5_word_embeddings_step_by_step.ipynb",
      "provenance": [],
      "include_colab_link": true
    }
  },
  "nbformat": 4,
  "nbformat_minor": 0
}